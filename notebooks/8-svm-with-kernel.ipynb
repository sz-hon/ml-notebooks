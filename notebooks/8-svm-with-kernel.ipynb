{
 "cells": [
  {
   "cell_type": "markdown",
   "metadata": {},
   "source": [
    "Support vector machines in depth\n",
    "================================\n",
    "\n",
    "*This is based on the course of [Fraida Fund](https://colab.research.google.com/github/ffund/ml-notebooks/blob/master/notebooks/1-colab-tour.ipynb) for  NYU Tandon School of Engineering*"
   ]
  },
  {
   "cell_type": "markdown",
   "metadata": {},
   "source": [
    "In this notebook, we will develop the intuition behind support vector machines and their use in classification problems."
   ]
  },
  {
   "cell_type": "markdown",
   "metadata": {},
   "source": [
    "#### Attribution\n",
    "\n",
    "Parts of this notebook are modified versions of [In Depth: Support Vector Machines](https://jakevdp.github.io/PythonDataScienceHandbook/05.07-support-vector-machines.html). <!--BOOK_INFORMATION--> <img align=\"left\" style=\"padding-right:10px;\" src=\"https://github.com/jakevdp/PythonDataScienceHandbook/blob/master/notebooks/figures/PDSH-cover-small.png?raw=1\">\n",
    "\n",
    "from [Python Data Science Handbook](http://shop.oreilly.com/product/0636920034919.do) by Jake VanderPlas; the content of that book is available [on GitHub](https://github.com/jakevdp/PythonDataScienceHandbook).\n",
    "\n",
    "The text is released under the [CC-BY-NC-ND license](https://creativecommons.org/licenses/by-nc-nd/3.0/us/legalcode), and code is released under the [MIT license](https://opensource.org/licenses/MIT)."
   ]
  },
  {
   "cell_type": "code",
   "execution_count": null,
   "metadata": {},
   "outputs": [],
   "source": [
    "from tqdm import tqdm\n",
    "\n",
    "import numpy as np\n",
    "import matplotlib.pyplot as plt\n",
    "from scipy import stats\n",
    "import ipywidgets as widgets\n",
    "from ipywidgets import interact, fixed\n",
    "from mpl_toolkits import mplot3d\n",
    "\n",
    "# use seaborn plotting defaults\n",
    "import seaborn as sns; sns.set_style('white')\n",
    "from sklearn.datasets import make_blobs, make_circles\n",
    "from sklearn.svm import SVC # \"Support vector classifier\""
   ]
  },
  {
   "cell_type": "markdown",
   "metadata": {},
   "source": [
    "Generate linearly separable data\n",
    "--------------------------------"
   ]
  },
  {
   "cell_type": "markdown",
   "metadata": {},
   "source": [
    "Consider the simple case of a binary classification task, in which the two classes of points are well separated:"
   ]
  },
  {
   "cell_type": "code",
   "execution_count": null,
   "metadata": {},
   "outputs": [],
   "source": [
    "X, y = make_blobs(n_samples=50, centers=2,\n",
    "                  random_state=0, cluster_std=0.60)\n",
    "plt.scatter(X[:, 0], X[:, 1], c=y, s=50, cmap='autumn');"
   ]
  },
  {
   "cell_type": "markdown",
   "metadata": {},
   "source": [
    "A linear classifier would attempt to draw a straight line separating the two sets of data, and thereby create a model for classification. For two dimensional data like that shown here, this is a task we could do by hand.\n",
    "\n",
    "But immediately we see a problem: there is more than one possible dividing line that can perfectly discriminate between the two classes!\n",
    "\n",
    "We can draw some of them as follows:"
   ]
  },
  {
   "cell_type": "code",
   "execution_count": null,
   "metadata": {},
   "outputs": [],
   "source": [
    "xfit = np.linspace(-1, 3.5)\n",
    "plt.scatter(X[:, 0], X[:, 1], c=y, s=50, cmap='autumn')\n",
    "plt.plot([0.6], [2.1], 'x', color='red', markeredgewidth=2, markersize=10)\n",
    "\n",
    "for m, b in [(1, 0.65), (0.5, 1.6), (-0.2, 2.9)]:\n",
    "    plt.plot(xfit, m * xfit + b, '-k')\n",
    "\n",
    "plt.xlim(-1, 3.5);"
   ]
  },
  {
   "cell_type": "markdown",
   "metadata": {},
   "source": [
    "These are three *very* different separators which, nevertheless, perfectly discriminate between these samples. Depending on which you choose, a new data point (e.g., the one marked by the “X” in this plot) will be assigned a different label! Evidently our simple intuition of “drawing a line between classes” is not enough, and we need to think a bit deeper."
   ]
  },
  {
   "cell_type": "markdown",
   "metadata": {},
   "source": [
    "Maximal margin classifier\n",
    "-------------------------\n",
    "\n",
    "Support vector machines offer one way to improve on this. The intuition is this: rather than simply drawing a zero-width line between the classes, we can draw around each line a *margin* of some width, up to the nearest point. Here is an example of how this might look:"
   ]
  },
  {
   "cell_type": "code",
   "execution_count": null,
   "metadata": {},
   "outputs": [],
   "source": [
    "xfit = np.linspace(-1, 3.5)\n",
    "plt.scatter(X[:, 0], X[:, 1], c=y, s=50, cmap='autumn')\n",
    "\n",
    "for m, b, d in [(1, 0.65, 0.33), (0.5, 1.6, 0.55), (-0.2, 2.9, 0.2)]:\n",
    "    yfit = m * xfit + b\n",
    "    plt.plot(xfit, yfit, '-k')\n",
    "    plt.fill_between(xfit, yfit - d, yfit + d, edgecolor='none',\n",
    "                     color='#AAAAAA', alpha=0.4)\n",
    "\n",
    "plt.xlim(-1, 3.5);"
   ]
  },
  {
   "cell_type": "markdown",
   "metadata": {},
   "source": [
    "Notice here that if we want to maximize this width, the middle fit is clearly the best."
   ]
  },
  {
   "cell_type": "markdown",
   "metadata": {},
   "source": [
    "This is the intuition of *support vector machines*. In support vector machines, the line that maximizes this margin is the one we will choose as the optimal model. Support vector machines are an example of such a *maximal margin* estimator."
   ]
  },
  {
   "cell_type": "markdown",
   "metadata": {},
   "source": [
    "Fitting a support vector machine\n",
    "--------------------------------\n",
    "\n",
    "Let’s see the result of an actual fit to this data: we will use Scikit-Learn's support vector classifier to train an SVM model on this data. For the time being, we will use a linear kernel and set the `C` parameter to a very large number (we’ll discuss the meaning of these in more depth momentarily)."
   ]
  },
  {
   "cell_type": "code",
   "execution_count": null,
   "metadata": {},
   "outputs": [],
   "source": [
    "model = SVC(kernel='linear', C=1E10)\n",
    "model.fit(X, y)"
   ]
  },
  {
   "cell_type": "markdown",
   "metadata": {},
   "source": [
    "To better visualize what’s happening here, let’s create a quick convenience function that will plot SVM decision boundaries for us:"
   ]
  },
  {
   "cell_type": "code",
   "execution_count": null,
   "metadata": {},
   "outputs": [],
   "source": [
    "def plot_svc_decision_function(model, ax=None, plot_support=True):\n",
    "    \"\"\"Plot the decision function for a 2D SVC\"\"\"\n",
    "    if ax is None:\n",
    "        ax = plt.gca()\n",
    "    xlim = ax.get_xlim()\n",
    "    ylim = ax.get_ylim()\n",
    "    \n",
    "    # create grid to evaluate model\n",
    "    x = np.linspace(xlim[0], xlim[1], 30)\n",
    "    y = np.linspace(ylim[0], ylim[1], 30)\n",
    "    Y, X = np.meshgrid(y, x)\n",
    "    xy = np.vstack([X.ravel(), Y.ravel()]).T\n",
    "    P = model.decision_function(xy).reshape(X.shape)\n",
    "    \n",
    "    # plot decision boundary and margins\n",
    "    ax.contour(X, Y, P, colors='k',\n",
    "               levels=[-1, 0, 1], alpha=0.5,\n",
    "               linestyles=['--', '-', '--'])\n",
    "    \n",
    "    # plot support vectors\n",
    "    if plot_support:\n",
    "        ax.scatter(model.support_vectors_[:, 0],\n",
    "                   model.support_vectors_[:, 1],\n",
    "                   s=300, linewidth=1, \n",
    "                   facecolors='none', edgecolors= 'black');\n",
    "    ax.set_xlim(xlim)\n",
    "    ax.set_ylim(ylim)"
   ]
  },
  {
   "cell_type": "code",
   "execution_count": null,
   "metadata": {},
   "outputs": [],
   "source": [
    "plt.scatter(X[:, 0], X[:, 1], c=y, s=50, cmap='autumn')\n",
    "plot_svc_decision_function(model);"
   ]
  },
  {
   "cell_type": "markdown",
   "metadata": {},
   "source": [
    "This is the dividing line that maximizes the margin between the two sets of points. Notice that a few of the training points lie on the margin: they are indicated by the black circles in this figure. These points are the pivotal elements of this fit, and are known as the *support vectors*, and give the algorithm its name. In Scikit-Learn, the identity of these points are stored in the `support_vectors_` attribute of the classifier:"
   ]
  },
  {
   "cell_type": "code",
   "execution_count": null,
   "metadata": {},
   "outputs": [],
   "source": [
    "model.support_vectors_"
   ]
  },
  {
   "cell_type": "markdown",
   "metadata": {},
   "source": [
    "A key to this classifier's success is that for the fit, only the position of the support vectors matter; any points further from the margin which are on the correct side do not modify the fit! Technically, this is because these points do not contribute to the loss function used to fit the model, so their position and number do not matter so long as they do not cross the margin.\n",
    "\n",
    "We can see this, for example, if we plot the model learned from the first 60 points and first 120 points of this dataset:"
   ]
  },
  {
   "cell_type": "code",
   "execution_count": null,
   "metadata": {},
   "outputs": [],
   "source": [
    "def plot_svm(N=10, ax=None):\n",
    "    X, y = make_blobs(n_samples=200, centers=2,\n",
    "                      random_state=0, cluster_std=0.60)\n",
    "    X = X[:N]\n",
    "    y = y[:N]\n",
    "    model = SVC(kernel='linear', C=1E10)\n",
    "    model.fit(X, y)\n",
    "    \n",
    "    ax = ax or plt.gca()\n",
    "    ax.scatter(X[:, 0], X[:, 1], c=y, s=50, cmap='autumn')\n",
    "    ax.set_xlim(-1, 4)\n",
    "    ax.set_ylim(-1, 6)\n",
    "    plot_svc_decision_function(model, ax)\n",
    "\n",
    "fig, ax = plt.subplots(1, 2, figsize=(16, 6))\n",
    "fig.subplots_adjust(left=0.0625, right=0.95, wspace=0.1)\n",
    "for axi, N in zip(ax, [60, 120]):\n",
    "    plot_svm(N, axi)\n",
    "    axi.set_title('N = {0}'.format(N))"
   ]
  },
  {
   "cell_type": "markdown",
   "metadata": {},
   "source": [
    "In the left panel, we see the model and the support vectors for 60 training points. In the right panel, we have doubled the number of training points, but the model has not changed: the three support vectors from the left panel are still the support vectors from the right panel. This insensitivity to the exact behavior of distant points is one of the strengths of the SVM model.\n",
    "\n",
    "However, the model is *not* insensitive to the addition of points that violate the margin."
   ]
  },
  {
   "cell_type": "markdown",
   "metadata": {},
   "source": [
    "You can change the value of $N$ and view this feature of the SVM model interactively:"
   ]
  },
  {
   "cell_type": "code",
   "execution_count": null,
   "metadata": {},
   "outputs": [],
   "source": [
    "interact(plot_svm, N=widgets.IntSlider(min=10, max=200, step=1, value=10), ax=fixed(None));"
   ]
  },
  {
   "cell_type": "markdown",
   "metadata": {},
   "source": [
    "Softening margins\n",
    "-----------------\n",
    "\n",
    "Our discussion thus far has centered around very clean datasets, in which a perfect decision boundary exists. But what if your data has some amount of overlap? For example, you may have data like this:"
   ]
  },
  {
   "cell_type": "code",
   "execution_count": null,
   "metadata": {},
   "outputs": [],
   "source": [
    "X, y = make_blobs(n_samples=100, centers=2,\n",
    "                  random_state=0, cluster_std=1.2)\n",
    "plt.scatter(X[:, 0], X[:, 1], c=y, s=50, cmap='autumn');"
   ]
  },
  {
   "cell_type": "markdown",
   "metadata": {},
   "source": [
    "To handle this case, the SVM implementation has a bit of a fudge-factor which “softens” the margin: that is, it allows some of the points to creep into the margin if that allows a better fit. The hardness of the margin is controlled by a tuning parameter, most often known as $C$."
   ]
  },
  {
   "cell_type": "markdown",
   "metadata": {},
   "source": [
    "We can better understand the effect of $C$ by referring back to the SVM optimization problem:\n",
    "\n",
    "$$\n",
    "\\begin{aligned}\n",
    "\\operatorname*{minimize}_{\\mathbf{w}, \\mathbf{\\epsilon}} \\quad & \\frac{1}{2} \\sum_{j=1}^p w_j^2  + C \\sum_{i=1}^n \\epsilon_i  \\\\\n",
    "\\text{subject to} \\quad & y_i(w_0 + \\sum_{j=1}^p w_j x_{ij}) \\geq 1-\\epsilon_i, \\quad \\forall i \\\\\n",
    "& \\epsilon_i \\geq 0, \\quad \\forall i\n",
    "\\end{aligned}\n",
    "$$\n",
    "\n",
    "The greater the value of $C$, the more heavily the “margin violators” penalize the overall objective function. Therefore,\n",
    "\n",
    "-   If $C$ is large, the margin must be narrow (with few “margin violators”).\n",
    "-   If $C$ is small, the margin may be wider (with more “margin violators”)."
   ]
  },
  {
   "cell_type": "markdown",
   "metadata": {},
   "source": [
    "The plot shown below gives a visual picture of how a changing $C$ parameter affects the final fit, via the softening of the margin:"
   ]
  },
  {
   "cell_type": "code",
   "execution_count": null,
   "metadata": {},
   "outputs": [],
   "source": [
    "X, y = make_blobs(n_samples=100, centers=2,\n",
    "                  random_state=0, cluster_std=0.8)\n",
    "\n",
    "fig, ax = plt.subplots(1, 2, figsize=(16, 6))\n",
    "fig.subplots_adjust(left=0.0625, right=0.95, wspace=0.1)\n",
    "\n",
    "for axi, C in zip(ax, [10.0, 0.01]):\n",
    "    model = SVC(kernel='linear', C=C).fit(X, y)\n",
    "    axi.scatter(X[:, 0], X[:, 1], c=y, s=50, cmap='autumn')\n",
    "    plot_svc_decision_function(model, axi)\n",
    "    axi.scatter(model.support_vectors_[:, 0],\n",
    "                model.support_vectors_[:, 1],\n",
    "                s=300, lw=1, facecolors='none');\n",
    "    axi.set_title('C = {0:.2f}'.format(C), size=14)"
   ]
  },
  {
   "cell_type": "markdown",
   "metadata": {},
   "source": [
    "The optimal value of the $C$ parameter will depend on your dataset, and should be tuned using cross-validation or a similar procedure."
   ]
  },
  {
   "cell_type": "markdown",
   "metadata": {},
   "source": [
    "Bias and variance\n",
    "-----------------"
   ]
  },
  {
   "cell_type": "code",
   "execution_count": null,
   "metadata": {},
   "outputs": [],
   "source": [
    "n_repeat = 100\n",
    "n_test = 500\n",
    "n_train = 100\n",
    "sigma= 0.8\n",
    "cluster_centers = np.array([[-1,1],[2,2]])"
   ]
  },
  {
   "cell_type": "code",
   "execution_count": null,
   "metadata": {},
   "outputs": [],
   "source": [
    "y_predict = np.zeros((n_test, n_repeat, 2))"
   ]
  },
  {
   "cell_type": "code",
   "execution_count": null,
   "metadata": {},
   "outputs": [],
   "source": [
    "x_test, y_test = make_blobs(n_samples=n_test, centers=cluster_centers,\n",
    "                  random_state=0, cluster_std=sigma)"
   ]
  },
  {
   "cell_type": "code",
   "execution_count": null,
   "metadata": {},
   "outputs": [],
   "source": [
    "sns.scatterplot(x=x_test[:,0], y=x_test[:,1], hue=y_test, palette=['red','yellow']);\n",
    "\n",
    "plt.xlabel(\"x1\");\n",
    "plt.ylabel(\"x2\");\n",
    "plt.xlim(-5,5);\n",
    "plt.ylim(-2,5);\n",
    "\n",
    "# get the true decision boundary \n",
    "mid = [cluster_centers[:,0].mean(), cluster_centers[:,1].mean()]\n",
    "slp = -1.0/((cluster_centers[1,1]-cluster_centers[0,1])/(cluster_centers[1,0]-cluster_centers[0,0]))\n",
    "b = mid[1]-slp*mid[0]\n",
    "x_true = np.arange(-5,5)\n",
    "y_true = slp*x_true + b\n",
    "sns.lineplot(x=x_true, y=y_true, color='black', label=\"True decision boundary\")\n",
    "\n",
    "plt.legend(loc='center left', bbox_to_anchor=(1, 0.5), ncol=1);"
   ]
  },
  {
   "cell_type": "markdown",
   "metadata": {},
   "source": [
    "Suppose we want to train a model to classify two “blobs” of data."
   ]
  },
  {
   "cell_type": "markdown",
   "metadata": {},
   "source": [
    "Which will have greater bias, and which will have greater variance?\n",
    "\n",
    "-   **Model A**: Linear SVM with $C=0.001$\n",
    "\n",
    "-   **Model B**: Linear SVM with $C=100$"
   ]
  },
  {
   "cell_type": "markdown",
   "metadata": {},
   "source": [
    "Remember: $C$ is the tuning parameter in the SVM problem\n",
    "\n",
    "$$\n",
    "\\begin{aligned}\n",
    "\\operatorname*{minimize}_{\\mathbf{w}, \\mathbf{\\epsilon}} \\quad & \\frac{1}{2} \\sum_{j=1}^p w_j^2  + C \\sum_{i=1}^n \\epsilon_i  \\\\\n",
    "\\text{subject to} \\quad & y_i(w_0 + \\sum_{j=1}^p w_j x_{ij}) \\geq 1-\\epsilon_i, \\quad \\forall i \\\\\n",
    "& \\epsilon_i \\geq 0, \\quad \\forall i\n",
    "\\end{aligned}\n",
    "$$\n",
    "\n",
    "The greater the value of $C$, the more heavily the “margin violators” penalize the overall objective function."
   ]
  },
  {
   "cell_type": "code",
   "execution_count": null,
   "metadata": {},
   "outputs": [],
   "source": [
    "Z_sim = np.zeros((40000, n_repeat, 2))\n",
    "\n",
    "fig = plt.figure(figsize=(12,4))\n",
    "ax_a, ax_b = fig.subplots(1, 2, sharex=True, sharey=True)\n",
    "\n",
    "# now simulate training the model many times, on different training data every time\n",
    "# and evaluate using the test data\n",
    "for i in tqdm(range(n_repeat), total=n_repeat, desc=\"Simulation iteration\"):\n",
    " \n",
    "  # train both models on newly generated training data\n",
    "  X, y = make_blobs(n_samples=n_test, centers=cluster_centers,\n",
    "                  cluster_std=sigma)\n",
    "\n",
    "  clf_a = SVC(kernel='linear', C=0.001).fit(X, y)\n",
    "  clf_b = SVC(kernel='linear', C=100.0).fit(X, y)\n",
    "\n",
    "  y_predict[:, i, 0] = clf_a.predict(x_test)\n",
    "  y_predict[:, i, 1] = clf_b.predict(x_test)\n",
    "\n",
    "\n",
    "  xx, yy = np.meshgrid(np.arange(-5, 5, .05),\n",
    "                      np.arange(-5, 5, .05))\n",
    "  \n",
    "  Z = clf_a.decision_function(np.c_[xx.ravel(), yy.ravel()])\n",
    "  Z_sim[:, i, 0] = Z\n",
    "  Z = Z.reshape(xx.shape)\n",
    "  ax_a.contour(xx, yy, Z, levels=[0.5], alpha=0.5, colors='bisque');\n",
    "\n",
    "  plt.xlim(-5,5);\n",
    "  plt.ylim(-2,5);\n",
    "\n",
    "  Z = clf_b.decision_function(np.c_[xx.ravel(), yy.ravel()])\n",
    "  Z_sim[:, i, 1] = Z\n",
    "  Z = Z.reshape(xx.shape)\n",
    "  ax_b.contour(xx, yy, Z, levels=[0.5], alpha=0.5, colors='bisque');\n",
    "\n",
    "  plt.xlim(-5,5);\n",
    "  plt.ylim(-2,5);\n",
    "\n",
    "\n",
    "cs_a = ax_a.contour(xx, yy, Z_sim[:,:,0].mean(axis=1).reshape(200,200), levels=[0.5], colors='darkorange', linewidths=2);\n",
    "cs_b = ax_b.contour(xx, yy, Z_sim[:,:,1].mean(axis=1).reshape(200,200), levels=[0.5], colors='darkorange', linewidths=2);\n",
    "\n",
    "# plot data\n",
    "sns.scatterplot(x=x_test[:,0], y=x_test[:,1], hue=y_test, ax=ax_a, legend=False, palette=['red','yellow']);\n",
    "sns.scatterplot(x=x_test[:,0], y=x_test[:,1], hue=y_test, ax=ax_b, legend=False, palette=['red','yellow']);\n",
    "\n",
    "sns.lineplot(x=x_true, y=y_true, color='black', ax=ax_a)\n",
    "sns.lineplot(x=x_true, y=y_true, color='black', ax=ax_b)\n",
    "\n",
    "\n",
    "ax_a.set_title(\"Model A\");\n",
    "ax_b.set_title(\"Model B\");\n",
    "\n",
    "ax_a.set_ylabel(\"x2\");\n",
    "ax_a.set_xlabel(\"x1\");\n",
    "ax_b.set_xlabel(\"x1\");"
   ]
  },
  {
   "cell_type": "markdown",
   "metadata": {},
   "source": [
    "Beyond linear boundaries: Kernel SVM\n",
    "------------------------------------\n",
    "\n",
    "Where SVM becomes extremely powerful is when it is combined with *kernels*.\n",
    "\n",
    "In linear regression, we projected our data into higher-dimensional space defined by polynomials or other basis functions, and thereby were able to fit for nonlinear relationships with a linear classifier.\n",
    "\n",
    "In SVM models, we can use a version of the same idea. To motivate the need for kernels, let’s look at some data that is not linearly separable:"
   ]
  },
  {
   "cell_type": "code",
   "execution_count": null,
   "metadata": {},
   "outputs": [],
   "source": [
    "X, y = make_circles(100, factor=.1, noise=.1)\n",
    "\n",
    "clf = SVC(kernel='linear').fit(X, y)\n",
    "\n",
    "plt.scatter(X[:, 0], X[:, 1], c=y, s=50, cmap='autumn')\n",
    "plot_svc_decision_function(clf, plot_support=False);"
   ]
  },
  {
   "cell_type": "markdown",
   "metadata": {},
   "source": [
    "It is clear that no linear discrimination will *ever* be able to separate this data. But we can draw a lesson from the basis function regressions, and think about how we might project the data into a higher dimension such that a linear separator *would* be sufficient.\n",
    "\n",
    "For example, one simple projection we could use would be to compute a *radial basis function* centered on the middle clump."
   ]
  },
  {
   "cell_type": "markdown",
   "metadata": {},
   "source": [
    "Definition: The RBF kernel is defined as\n",
    "\n",
    "$$K(x,z) = \\exp(-\\frac{\\|x-z\\|^2_2}{\\sigma^2})$$\n",
    "\n",
    "where $\\sigma$ is the bandwidth, or equivalently, using a $\\gamma$ parameter,\n",
    "\n",
    "$$K(x, z) = \\exp(-\\gamma \\| x - z \\|^2_2 )$$"
   ]
  },
  {
   "cell_type": "markdown",
   "metadata": {},
   "source": [
    "When we say we compute the RBF kernel centered on the middle clump, we mean that we hold $z$ fixed at the origin, which is the center of the middle clump, and compute the kernel for every $x$."
   ]
  },
  {
   "cell_type": "code",
   "execution_count": null,
   "metadata": {},
   "outputs": [],
   "source": [
    "r = np.exp(-((X) ** 2).sum(1))"
   ]
  },
  {
   "cell_type": "markdown",
   "metadata": {},
   "source": [
    "We can visualize this extra data dimension using a three-dimensional plot:"
   ]
  },
  {
   "cell_type": "code",
   "execution_count": null,
   "metadata": {},
   "outputs": [],
   "source": [
    "def plot_3D(elev=30, azim=30, X=X, y=y):\n",
    "    plt.figure(figsize=(7,7))\n",
    "    ax = plt.subplot(projection='3d')\n",
    "    ax.scatter3D(X[:, 0], X[:, 1], r, c=y, s=50, cmap='autumn')\n",
    "    ax.view_init(elev=elev, azim=azim)\n",
    "    ax.set_xlabel('x')\n",
    "    ax.set_ylabel('y')\n",
    "    ax.set_zlabel('r')\n",
    "\n",
    "interact(plot_3D, \n",
    "         elev=widgets.IntSlider(min=-90, max=90, step=10, value=30),\n",
    "         azim=widgets.IntSlider(min=-90, max=90, step=10, value=30),\n",
    "         X=fixed(X), y=fixed(y));"
   ]
  },
  {
   "cell_type": "markdown",
   "metadata": {},
   "source": [
    "We can see that with this additional dimension, the data becomes trivially linearly separable, by drawing a separating plane at, say, *r*=0.7.\n",
    "\n",
    "Here we had to choose and carefully tune our projection: if we had not centered our radial basis function in the right location, we would not have seen such clean, linearly separable results. In general, the need to make such a choice is a problem: we would like to somehow automatically find the best basis functions to use.\n",
    "\n",
    "One strategy to this end is to compute a basis function centered at *every* point in the dataset, and let the SVM algorithm sift through the results. This type of basis function transformation is known as a *kernel transformation*, as it is based on a similarity relationship (or kernel) between each pair of points.\n",
    "\n",
    "A potential problem with this strategy—projecting $N$ points into $N$ dimensions—is that it might become very computationally intensive as $N$ grows large. However, because of the *kernel trick*, a fit on kernel-transformed data can be done implicitly—that is, without ever building the full $N$-dimensional representation of the kernel projection! This kernel trick is built into the SVM, and is one of the reasons the method is so powerful.\n",
    "\n",
    "In `sklearn`, we can apply kernelized SVM simply by changing our linear kernel to an RBF (radial basis function) kernel, using the `kernel` model hyperparameter:"
   ]
  },
  {
   "cell_type": "code",
   "execution_count": null,
   "metadata": {},
   "outputs": [],
   "source": [
    "clf = SVC(kernel='rbf', C=1E6)\n",
    "clf.fit(X, y)"
   ]
  },
  {
   "cell_type": "code",
   "execution_count": null,
   "metadata": {},
   "outputs": [],
   "source": [
    "plt.scatter(X[:, 0], X[:, 1], c=y, s=50, cmap='autumn')\n",
    "plot_svc_decision_function(clf)"
   ]
  },
  {
   "cell_type": "markdown",
   "metadata": {},
   "source": [
    "Using this kernelized support vector machine, we learn a suitable nonlinear decision boundary."
   ]
  },
  {
   "cell_type": "markdown",
   "metadata": {},
   "source": [
    "### 3D visualization of support vectors for RBF kernel"
   ]
  },
  {
   "cell_type": "code",
   "execution_count": null,
   "metadata": {},
   "outputs": [],
   "source": [
    "from sklearn.metrics.pairwise import rbf_kernel\n",
    "\n",
    "\n",
    "colors = ['red','yellow']\n",
    "C = 1\n",
    "gamma = 10\n",
    "\n",
    "clf = SVC(kernel='rbf', C=C, gamma=gamma)\n",
    "clf.fit(X, y)\n",
    "\n",
    "def plot_3D(elev=30, azim=30, sv=[], use_alpha=False, X=X, y=y, gamma=gamma):\n",
    "\n",
    "    plt.figure(figsize=(12,12))\n",
    "    ax = plt.subplot(projection='3d')\n",
    "    ax.scatter3D(X[:, 0], X[:, 1], 0, c=y, s=50, cmap='autumn', alpha=0.4, edgecolor='black')\n",
    "    ax.view_init(elev=elev, azim=azim)\n",
    "    ax.set_xlabel('x')\n",
    "    ax.set_ylabel('y')\n",
    "    ax.set_zlabel('r')\n",
    "    ax.set_zlim(-1, 1)\n",
    "\n",
    "\n",
    "    # Make data.\n",
    "    xx1 = np.linspace(-1.5, 1.5, 30)\n",
    "    xx2 = np.linspace(-1.5, 1.5, 30)\n",
    "\n",
    "    X1, X2 = np.meshgrid(xx1, xx2)\n",
    "    coords = np.column_stack((X1.ravel(), X2.ravel()))\n",
    "    Z = np.zeros((X1.shape[0], X1.shape[1]))\n",
    "    for sidx in sv:\n",
    "      s = clf.support_vectors_[sidx]\n",
    "      a = clf.dual_coef_[0][sidx]\n",
    "      if not use_alpha:\n",
    "        a =  np.sign(a)\n",
    "      z = rbf_kernel(coords, [s], gamma=gamma)\n",
    "      Z = Z + a*z.reshape((X1.shape[0], X1.shape[1]))\n",
    "      ax.scatter3D(clf.support_vectors_[sidx][0], clf.support_vectors_[sidx][1], 0, \n",
    "                  edgecolor='black', color=colors[int(np.clip(np.sign(clf.dual_coef_[0][sidx]), 0, 1))], s=100)\n",
    "\n",
    "    surf = ax.plot_surface(X1, X2, Z, cmap='autumn', alpha=0.1, vmin=-1, vmax=1,\n",
    "                      linewidth=0, antialiased=False)\n",
    "\n",
    "\n",
    "interact(plot_3D, \n",
    "         elev=widgets.IntSlider(min=-90, max=90, step=10, value=30),\n",
    "         azim=widgets.IntSlider(min=-90, max=90, step=10, value=30),\n",
    "         sv=widgets.SelectMultiple(options=list(np.arange(np.sum(clf.n_support_))), value=[]),\n",
    "         use_alpha = widgets.Checkbox(value=False),\n",
    "         gamma=fixed(gamma), X=fixed(X), y=fixed(y));"
   ]
  }
 ],
 "nbformat": 4,
 "nbformat_minor": 0,
 "metadata": {
  "kernelspec": {
   "name": "python3",
   "display_name": "Python 3",
   "language": "python"
  }
 }
}
