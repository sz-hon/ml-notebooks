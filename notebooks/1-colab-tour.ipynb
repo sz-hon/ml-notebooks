{
 "cells": [
  {
   "attachments": {},
   "cell_type": "markdown",
   "metadata": {},
   "source": [
    "Colab tour\n",
    "==========\n",
    "\n",
    "\n",
    "\n",
    "[![Open In\n",
    "Colab](https://colab.research.google.com/assets/colab-badge.svg)](https://colab.research.google.com/github/sz-hon/ml-notebooks/blob/master/notebooks/1-colab-tour.ipynb)"
   ]
  },
  {
   "attachments": {},
   "cell_type": "markdown",
   "metadata": {},
   "source": [
    "### Attribution\n",
    "\n",
    "-   This Notebook is based on the course of [Fraida Fund](https://colab.research.google.com/github/ffund/ml-notebooks/blob/master/notebooks/1-colab-tour.ipynb) for NYU Tandon School of Engineering.\n",
    "-   Parts of this notebook are from Google’s own [Overview of Colab\n",
    "    features](https://colab.research.google.com/notebooks/basic_features_overview.ipynb).\n",
    "-   Parts of this notebook are from the [I/O example\n",
    "    notebook](https://colab.research.google.com/notebooks/io.ipynb)"
   ]
  },
  {
   "cell_type": "markdown",
   "metadata": {},
   "source": [
    "Introduction\n",
    "------------\n",
    "\n",
    "Colaboratory - “Colab” for short - is a web application that lets you\n",
    "develop Python code in a “notebook” format, directly in your browser.\n",
    "\n",
    "It is especially well suited for machine learning, because:\n",
    "\n",
    "-   It provides free access to GPUs, which will be very helpful later in\n",
    "    the course when we are working with neural networks. (There are some\n",
    "    limits to this free access, however.)\n",
    "-   It has many of the most popular machine learning libraries already\n",
    "    pre-installed, and you can manually install any other libraries you\n",
    "    might need (for example, for your project).\n",
    "-   It is easy to share Colab notebooks with others.\n",
    "\n",
    "All of the lab assignments and demos in this course are designed to run\n",
    "on Colab."
   ]
  },
  {
   "cell_type": "markdown",
   "metadata": {},
   "source": [
    "This notebook is a “tour” of Colab. You won’t necessarily use all the\n",
    "features demonstrated in this notebook right away, but they’ll be\n",
    "helpful over the course of the semester. So, review this notebook once,\n",
    "then keep it handy to refer back to when needed!"
   ]
  },
  {
   "cell_type": "markdown",
   "metadata": {},
   "source": [
    "Saving a notebook\n",
    "-----------------"
   ]
  },
  {
   "cell_type": "markdown",
   "metadata": {},
   "source": [
    "When you open a Colab notebook that has been shared with you on a\n",
    "read-only basis (like this one, and all of the others we’ll use in this\n",
    "course!), you can run code and make changes to the notebook, but your\n",
    "code and output won’t be saved.\n",
    "\n",
    "To save your work, when you first open the notebook, make sure you are\n",
    "logged in to your Google account. Then, click File \\> Save a Copy in\n",
    "Drive. This will save a copy of the notebook in your Google Drive, in a\n",
    "folder called Colab Notebooks. Run and edit code in the copy, rather\n",
    "than the original notebook."
   ]
  },
  {
   "cell_type": "markdown",
   "metadata": {},
   "source": [
    "Cell basics\n",
    "-----------"
   ]
  },
  {
   "cell_type": "markdown",
   "metadata": {},
   "source": [
    "A notebook is a list of “cells”. Each cell contains either text or\n",
    "executable code."
   ]
  },
  {
   "attachments": {},
   "cell_type": "markdown",
   "metadata": {},
   "source": [
    "There are a few ways to create a new cell:\n",
    "\n",
    "You can click on the +Code or +Text buttons near the top left of the\n",
    "Colab interface:\n",
    "\n",
    "![Create a new Colab cell from the\n",
    "toolbar.](https://raw.githubusercontent.com/sz-hon/ml-notebooks/master/notebooks/images/colab-tour-newcell-0.png)\n",
    "\n",
    "You can move your mouse near the bottom of any existing cell to see\n",
    "+Code and +Text buttons appear, then click on one of those:\n",
    "\n",
    "![Create a new Colab cell from the bottom of existing\n",
    "cell.](https://raw.githubusercontent.com/sz-hon/ml-notebooks/master/notebooks/images/colab-tour-newcell-1.png)\n",
    "\n",
    "Or you can use Insert \\> Code cell or Insert \\> Text cell from the menu\n",
    "bar.\n",
    "\n",
    "![Create a new Colab cell from the menu\n",
    "bar.](https://raw.githubusercontent.com/sz-hon/ml-notebooks/master/notebooks/images/colab-tour-newcell-2.png)"
   ]
  },
  {
   "attachments": {},
   "cell_type": "markdown",
   "metadata": {},
   "source": [
    "Double-click on any cell to edit the cell.\n",
    "\n",
    "To delete a cell, click on the trash icon that appears in the top right\n",
    "when you click on the cell:\n",
    "\n",
    "![Delete a Colab\n",
    "cell.](https://raw.githubusercontent.com/sz-hon/ml-notebooks/master/notebooks/images/colab-tour-delete-0.png)\n",
    "\n",
    "Or, you can right-click on a cell and choose “Delete cell”.\n",
    "\n",
    "![Delete a Colab cell from the context\n",
    "menu.](https://raw.githubusercontent.com/sz-hon/ml-notebooks/master/notebooks/images/colab-tour-delete-1.png)"
   ]
  },
  {
   "cell_type": "markdown",
   "metadata": {},
   "source": [
    "### Text cells\n",
    "\n",
    "Text cells can be used to explain your code, or to comment on the\n",
    "output.\n",
    "\n",
    "Text cells are formatted using markdown syntax to add headers, lists,\n",
    "bold or italic text, etc. To learn more, see this [markdown\n",
    "reference](https://colab.research.google.com/notebooks/markdown_guide.ipynb).\n",
    "\n",
    "You can also add math to text cells using\n",
    "[LaTeX](http://www.latex-project.org/). Just place the statement within\n",
    "a pair of **\\$** signs. For example,\n",
    "\n",
    "`$\\sqrt{3x-1}+(1+x)^2$`\n",
    "\n",
    "is rendered as\n",
    "\n",
    "$\\sqrt{3x-1}+(1+x)^2.$"
   ]
  },
  {
   "cell_type": "markdown",
   "metadata": {},
   "source": [
    "### Code cells\n",
    "\n",
    "Your Python code will go in code cells. For example:"
   ]
  },
  {
   "cell_type": "code",
   "execution_count": null,
   "metadata": {},
   "outputs": [],
   "source": [
    "a = 10\n",
    "a"
   ]
  },
  {
   "cell_type": "markdown",
   "metadata": {},
   "source": [
    "To run the code in the cell above, press the Play button that appears on\n",
    "the left side of the cell when you move your mouse over it. The output\n",
    "will appear immediately below the cell."
   ]
  },
  {
   "cell_type": "markdown",
   "metadata": {},
   "source": [
    "Colab also has some extra features to help you write Python code. One\n",
    "helpful feature is autocompletion. For example, run the following cell,\n",
    "which assigns a value to the variable named `course_description`:"
   ]
  },
  {
   "cell_type": "code",
   "execution_count": null,
   "metadata": {},
   "outputs": [],
   "source": [
    "course_description = \"Intro to Machine Learning\""
   ]
  },
  {
   "cell_type": "markdown",
   "metadata": {},
   "source": [
    "Now, suppose you want to print the course description. In the next cell,\n",
    "start to type\n",
    "\n",
    "``` python\n",
    "print(course_description)\n",
    "```"
   ]
  },
  {
   "cell_type": "code",
   "execution_count": null,
   "metadata": {},
   "outputs": [],
   "source": []
  },
  {
   "attachments": {},
   "cell_type": "markdown",
   "metadata": {},
   "source": [
    "After you type the first few characters, you’ll see a menu near your\n",
    "cursor that offers to auto-complete the name of the variable you used\n",
    "earlier. You can press Tab to accept the offer.\n",
    "\n",
    "![Auto-complete in\n",
    "Colab.](https://raw.githubusercontent.com/sz-hon/ml-notebooks/master/notebooks/images/colab-tour-auto-0.png)"
   ]
  },
  {
   "attachments": {},
   "cell_type": "markdown",
   "metadata": {},
   "source": [
    "You may also notice that Colab will show you documentation for a\n",
    "function immediately after you type the function name and open\n",
    "parentheses:\n",
    "\n",
    "![Colab shows documentation for a\n",
    "function.](https://raw.githubusercontent.com/sz-hon/ml-notebooks/master/notebooks/images/colab-tour-auto-1.png)"
   ]
  },
  {
   "cell_type": "markdown",
   "metadata": {},
   "source": [
    "Another interesting feature of Colab is that in addition to running\n",
    "Python code, you can also run commands on the underlying (Linux)\n",
    "operating system.\n",
    "\n",
    "To run a command on the underlying operating system, just preface the\n",
    "Linux command with a `!`. For example, try to run the [`pwd`\n",
    "command](https://man7.org/linux/man-pages/man1/pwd.1.html), which will\n",
    "**p**rint the name of your **w**orking **d**irectory:"
   ]
  },
  {
   "cell_type": "code",
   "execution_count": null,
   "metadata": {},
   "outputs": [],
   "source": [
    "!pwd"
   ]
  },
  {
   "cell_type": "markdown",
   "metadata": {},
   "source": [
    "### Running code cells"
   ]
  },
  {
   "attachments": {},
   "cell_type": "markdown",
   "metadata": {},
   "source": [
    "You can run code cells one at a time, or run cells in groups.\n",
    "\n",
    "To run a single code cell, press the Play button that appears on the\n",
    "left side of the cell when you move your mouse over it:\n",
    "\n",
    "![Run a single code cell from the Play\n",
    "button](https://raw.githubusercontent.com/sz-hon/ml-notebooks/master/notebooks/images/colab-tour-run-0.png)\n",
    "\n",
    "Try to run the following cell. The output of the code will appear below\n",
    "the cell when it runs."
   ]
  },
  {
   "cell_type": "code",
   "execution_count": null,
   "metadata": {},
   "outputs": [],
   "source": [
    "print(\"Hello world\")"
   ]
  },
  {
   "attachments": {},
   "cell_type": "markdown",
   "metadata": {},
   "source": [
    "You can also click on a cell (to make it the “focused” cell), then\n",
    "choose Runtime \\> Run the focused cell from the menu:\n",
    "\n",
    "![Run a single code cell from the\n",
    "menu](https://raw.githubusercontent.com/sz-hon/ml-notebooks/master/notebooks/images/colab-tour-run-1.png)"
   ]
  },
  {
   "cell_type": "markdown",
   "metadata": {},
   "source": [
    "As you can see, the runtime menu includes several other useful options.\n",
    "You can:\n",
    "\n",
    "-   Run all of the code cells in the entire notebook\n",
    "-   Run all of the code cells *before* the currently focused cell\n",
    "-   Run all of the code cells *after* the currently focused cell\n",
    "    (including the currently focused cell)\n",
    "\n",
    "These are especially helpful when you modify code. For example, suppose\n",
    "you have a notebook with:\n",
    "\n",
    "-   (Part 1) several cells that load in and prepare data\n",
    "-   (Part 2) several cells that prepare and train a machine learning\n",
    "    model on this data\n",
    "-   (Part 3) several cells that evaluate and visualize the effectiveness\n",
    "    of the model\n",
    "\n",
    "and you have run the entire notebook, but are not satisfied with the\n",
    "results. So, you modify the training procedure in the middle part of the\n",
    "notebook.\n",
    "\n",
    "You don’t have to re-run the cells that load in and prepare the data\n",
    "(Part 1), since those cells are not affected by the changes to the\n",
    "training procedure. But, you do need to re-run some of Part 2 and all of\n",
    "Part 3, so that you can train the model using the modified procedure and\n",
    "visualize the *new* results. In this case, you would select the cell you\n",
    "modified, and use Runtime \\> Run After to re-run that cell and all cells\n",
    "that follow.\n",
    "\n",
    "One common mistake to be careful of: students sometimes modify the code\n",
    "in a cell, re-run that cell, but forget to re-run all the later cells\n",
    "that depend on the modified cell."
   ]
  },
  {
   "cell_type": "markdown",
   "metadata": {},
   "source": [
    "When you run a cell, a number will appear in the left side of the cell,\n",
    "indicating the order in which the cell was executed. For example,\n",
    "consider the following set of three cells:"
   ]
  },
  {
   "cell_type": "code",
   "execution_count": null,
   "metadata": {},
   "outputs": [],
   "source": [
    "message = \"Hello world\""
   ]
  },
  {
   "cell_type": "code",
   "execution_count": null,
   "metadata": {},
   "outputs": [],
   "source": [
    "prefix = \"Message:\""
   ]
  },
  {
   "cell_type": "code",
   "execution_count": null,
   "metadata": {},
   "outputs": [],
   "source": [
    "print(prefix, message)"
   ]
  },
  {
   "attachments": {},
   "cell_type": "markdown",
   "metadata": {},
   "source": [
    "If you run those three cells in order, you would expect to see\n",
    "consecutive execution numbers, like this:\n",
    "\n",
    "![Cells with consecutive execution\n",
    "numbers](https://raw.githubusercontent.com/sz-hon/ml-notebooks/master/notebooks/images/colab-tour-cell-order-0.png)"
   ]
  },
  {
   "cell_type": "markdown",
   "metadata": {},
   "source": [
    "Sometimes, you may have a cell that runs for a very long time, or is\n",
    "stuck, and needs to be interrupted. Use Runtime \\> Interrupt Execution\n",
    "to interrupt a running cell.\n",
    "\n",
    "Try it now - run the cell below, then interrupt it using the Runtime\n",
    "menu."
   ]
  },
  {
   "cell_type": "code",
   "execution_count": null,
   "metadata": {},
   "outputs": [],
   "source": [
    "import time\n",
    "print(\"Sleeping\")\n",
    "time.sleep(60) # sleep for a while; interrupt me!\n",
    "print(\"Done Sleeping\")"
   ]
  },
  {
   "cell_type": "markdown",
   "metadata": {},
   "source": [
    "Filesystems\n",
    "-----------\n",
    "\n",
    "When using Colab for machine learning, we often need to get data into\n",
    "the Colab runtime’s filesystem. This section describes several ways to\n",
    "interact with the Colab filesystem, including three ways to get data\n",
    "into the filesystem:\n",
    "\n",
    "-   downloading a file from the Internet\n",
    "-   uploading a file from your computer\n",
    "-   storing a file in your Google Drive, and connecting your Drive to\n",
    "    your Colab session"
   ]
  },
  {
   "cell_type": "markdown",
   "metadata": {},
   "source": [
    "When you run a Colab notebook, your “working directory” - the directory\n",
    "from which your code executes - is, by default, `/content`. This\n",
    "directory will contain a `sample_data` subdirectory."
   ]
  },
  {
   "attachments": {},
   "cell_type": "markdown",
   "metadata": {},
   "source": [
    "On the side of the Colab interface, you’ll see a folder icon. You can\n",
    "click on this icon to open a file explorer, where you can point and\n",
    "click to navigate the filesystem.\n",
    "\n",
    "![Point-and-click interface for navigating\n",
    "filesystem.](https://raw.githubusercontent.com/sz-hon/ml-notebooks/master/notebooks/images/colab-tour-filexplore-0.png)"
   ]
  },
  {
   "cell_type": "markdown",
   "metadata": {},
   "source": [
    "If you are familiar with standard Linux commands for navigating a\n",
    "filesystem - `ls`, `cd`, `mv`, `pwd` - you can also use those commands\n",
    "in code cells, prefaced with a `!` as shown above. One special exception\n",
    "to note: when using `cd` in Colab, preface the command with a `%`\n",
    "instead of a `!`."
   ]
  },
  {
   "cell_type": "markdown",
   "metadata": {},
   "source": [
    "### Downloading a file\n",
    "\n",
    "One way to get data into the Colab filesystem is to download it from the\n",
    "Internet using the Linux command `wget`. Pass the URL of the file you\n",
    "want to download as an argument to `wget`. You can optionally specify\n",
    "the name of the output file using the `-O` argument. For example:"
   ]
  },
  {
   "cell_type": "code",
   "execution_count": null,
   "metadata": {},
   "outputs": [],
   "source": [
    "!wget https://www.statlearning.com/s/Advertising.csv -O Advertising.csv"
   ]
  },
  {
   "attachments": {},
   "cell_type": "markdown",
   "metadata": {},
   "source": [
    "After a brief delay, you should see the `Advertising.csv` file in the\n",
    "file explorer. (You can click the “Refresh” button, shown highlighted in\n",
    "red below, to update your view.) You can expand the file menu to\n",
    "interact with the file, to download it, rename it, or delete it.\n",
    "\n",
    "![View a downloaded file in the file\n",
    "explorer.](https://raw.githubusercontent.com/sz-hon/ml-notebooks/master/notebooks/images/colab-tour-filexplore-1.png)"
   ]
  },
  {
   "cell_type": "markdown",
   "metadata": {},
   "source": [
    "### Uploading a file\n",
    "\n",
    "Another way to get data files or other files into Colab is to upload\n",
    "them from your computer. The following cell is a “snippet” for uploading\n",
    "files - run it, click on Choose File in the output below the cell,\n",
    "upload a file, and then make sure you see it in the file browser after a\n",
    "few moments."
   ]
  },
  {
   "cell_type": "code",
   "execution_count": null,
   "metadata": {},
   "outputs": [],
   "source": [
    "from google.colab import files\n",
    "\n",
    "uploaded = files.upload()\n",
    "\n",
    "for fn in uploaded.keys():\n",
    "  print('User uploaded file \"{name}\" with length {length} bytes'.format(\n",
    "      name=fn, length=len(uploaded[fn])))"
   ]
  },
  {
   "attachments": {},
   "cell_type": "markdown",
   "metadata": {},
   "source": [
    "You can also use the file explorer directly to upload files by clicking\n",
    "on the Upload button:\n",
    "\n",
    "![Upload a file directly from the file\n",
    "explorer.](https://raw.githubusercontent.com/sz-hon/ml-notebooks/master/notebooks/images/colab-tour-filexplore-2.png)"
   ]
  },
  {
   "cell_type": "markdown",
   "metadata": {},
   "source": [
    "### Mounting a Google Drive\n",
    "\n",
    "Note that files downloaded from the Internet or uploaded from your\n",
    "computer are not *persistent* - they are deleted when your Colab session\n",
    "ends.\n",
    "\n",
    "Sometimes, it is useful to have a persistent file in your Colab session.\n",
    "For example, if you are working with a very large dataset, you may not\n",
    "want to download it or upload it each time you start a Colab session -\n",
    "this can take a long time! For *persistent* storage, you can save the\n",
    "file in your Google Drive, then *mount* your Google Drive in your Colab\n",
    "session to access the file from Colab."
   ]
  },
  {
   "cell_type": "markdown",
   "metadata": {},
   "source": [
    "To mount your Google Drive in the Colab session, run the following cell:"
   ]
  },
  {
   "cell_type": "code",
   "execution_count": null,
   "metadata": {},
   "outputs": [],
   "source": [
    "from google.colab import drive\n",
    "drive.mount('/content/drive')"
   ]
  },
  {
   "attachments": {},
   "cell_type": "markdown",
   "metadata": {},
   "source": [
    "A popup window should open up.![Popup Window to authorize Google Drive](https://raw.githubusercontent.com/sz-hon/ml-notebooks/master/notebooks/images/colab-tour-gdrive-new.png)\n",
    "\n",
    "and sign in to the Google account that you want to connect.\n",
    "\n",
    "You should then see a `drive` directory, containing all of your Google Drive files and\n",
    "folders, in the file explorer:\n",
    "\n",
    "![Google Drive is mounted in\n",
    "Colab.](https://raw.githubusercontent.com/sz-hon/ml-notebooks/master/notebooks/images/colab-tour-gdrive-3.png)\n",
    "\n",
    "Any changes you make to files in that folder - including modifying,\n",
    "adding, or deleting files - will be reflected in your Google Drive.\n",
    "Similarly, any changes you make to files in other Google Drive clients\n",
    "will be reflected in this Colab session.\n",
    "\n",
    "*Hint:* If you want to access big datasets (e.g. images) it is faster to copy the data once to the session storage (out of the drive mounting directory)."
   ]
  },
  {
   "cell_type": "markdown",
   "metadata": {},
   "source": [
    "To disconnect a Google Drive session from Colab, run the code in the\n",
    "following cell:"
   ]
  },
  {
   "cell_type": "code",
   "execution_count": null,
   "metadata": {},
   "outputs": [],
   "source": [
    "drive.flush_and_unmount()"
   ]
  },
  {
   "cell_type": "markdown",
   "metadata": {},
   "source": [
    "Runtimes - under the hood\n",
    "-------------------------\n",
    "\n",
    "How does this all work? When you use Colab, a virtual machine is\n",
    "allocated especially for your use. This virtual machine includes:\n",
    "\n",
    "-   a compute resource - CPU or GPU\n",
    "-   a disk, with an operating system and key software (including Python\n",
    "    and many data science/machine learning libraries) preinstalled\n",
    "-   RAM\n",
    "\n",
    "You can do anything you need to do on this VM (including downloading\n",
    "files, installing software, and of course, running Python code) for as\n",
    "long as the VM is allocated to you."
   ]
  },
  {
   "cell_type": "markdown",
   "metadata": {},
   "source": [
    "### Runtime types\n",
    "\n",
    "Colab comes with three “types” of runtimes:\n",
    "\n",
    "-   no hardware acceleration (i.e. CPU)\n",
    "-   GPU\n",
    "-   TPU\n",
    "\n",
    "However, because GPU and TPU resources are relatively scarce, there are\n",
    "stricter limits imposed on their use. Therefore, you should use a CPU\n",
    "notebook unless you are doing something that benefits from hardware\n",
    "acceleration. If you overuse GPU runtimes when you don’t really need\n",
    "them, Colab will prevent you from using GPU runtimes when you *do* use\n",
    "them!"
   ]
  },
  {
   "cell_type": "markdown",
   "metadata": {},
   "source": [
    "To check what runtime type you are using, or to change the runtime type,\n",
    "click on Runtime \\> Change Runtime Type in the Colab menu. For a CPU\n",
    "runtime, make sure Hardware Acceleration is set to None. Then, choose\n",
    "Save.\n",
    "\n",
    "**Note**: When you change the runtime type, it restarts the runtime,\n",
    "which means that any variables etc. saved in memory will be gone. So\n",
    "it’s a good idea to set up your runtime *before* you start running any\n",
    "code in the notebook."
   ]
  },
  {
   "attachments": {},
   "cell_type": "markdown",
   "metadata": {},
   "source": [
    "Once you have set or confirmed your desired runtime type, you can\n",
    "connect to a runtime. “Connecting to a runtime” means that you ask Colab\n",
    "to allocate a virtual machine (of the desired type) to you, and connect\n",
    "it to your session.\n",
    "\n",
    "There are two ways to connect to a runtime:\n",
    "\n",
    "-   Run any code cell - this will automatically connect your session to\n",
    "    a runtime, if you are not already connected. (If you have already\n",
    "    run the code cells above, your session is connected to a runtime!)\n",
    "-   Click the Connect button near the top right part of the Colab\n",
    "    interface.\n",
    "\n",
    "![Click here to connect to a Colab\n",
    "runtime](https://raw.githubusercontent.com/sz-hon/ml-notebooks/master/notebooks/images/colab-tour-connect-0.png)"
   ]
  },
  {
   "cell_type": "markdown",
   "metadata": {},
   "source": [
    "### Resource limits\n",
    "\n",
    "Colab is free to use, but several limitations apply to your usage:\n",
    "\n",
    "-   overall usage - there is a limit to how much Colab compute time you\n",
    "    can use per day or per week, especially if you are using GPU. If you\n",
    "    exceed this limit, you won’t be able to use Colab for a short\n",
    "    “cooling off” period.\n",
    "-   maximum VM lifetime - there is a limit to how long you can keep an\n",
    "    allocated runtime. After this limit is exceeded, you will be\n",
    "    disconnected from the runtime, and the virtual machine will be\n",
    "    recyled.\n",
    "-   idle timeout period - there is a limit to how long your session will\n",
    "    stay connected to a runtime if you are not actively using it. After\n",
    "    this limit is exceeded, you will be disconnected from the runtime.\n",
    "    Depending on the circumstances, it may be recyled, or you may be\n",
    "    able to re-connect to the same runtime.\n",
    "-   GPU availability - GPU availability is not guaranteed, and you may\n",
    "    not be able to access a GPU runtime on demand (especially if you\n",
    "    have a lot of recent GPU usage)."
   ]
  },
  {
   "cell_type": "markdown",
   "metadata": {},
   "source": [
    "The lab assignments and demos in this course are designed carefully to\n",
    "avoid bumping up against these limitations, so that you can use Colab\n",
    "throughout the semester!\n",
    "\n",
    "But, this applies only if you:\n",
    "\n",
    "-   don’t use GPU resources when not necessary.\n",
    "-   close your Colab tabs when you are done working."
   ]
  },
  {
   "attachments": {},
   "cell_type": "markdown",
   "metadata": {},
   "source": [
    "In addition to the limits mentioned above, each Colab VM has some disk\n",
    "space and RAM allocated to it.\n",
    "\n",
    "Once you are connected to a runtime, you will see a bar graph in this\n",
    "space that shows you your current RAM and disk space usage. If you move\n",
    "your mouse over this bar graph, it will also show you your exact RAM and\n",
    "disk space usage, and the limits of your virtual machine.\n",
    "\n",
    "![Click here to connect to a Colab\n",
    "runtime](https://raw.githubusercontent.com/sz-hon/ml-notebooks/master/notebooks/images/colab-tour-connect-1.png)"
   ]
  },
  {
   "cell_type": "markdown",
   "metadata": {},
   "source": [
    "As mentioned above, despite the resource limits, Colab will be\n",
    "sufficient for all of the demos and homework assignments we will use in\n",
    "this course. In the fall, when you work on your project, we can discuss\n",
    "strategies including:\n",
    "\n",
    "-   modifying your project scope\n",
    "-   setting up your code to work well despite the resource limits (for\n",
    "    example, training your model in small steps, and saving the weights\n",
    "    to your Google Drive at each step in case the runtime is recycled)\n",
    "-   connecting your Colab session to a local runtime on your PC or one\n",
    "    on a Google Cloud Platform compute instance (with free credits)\n",
    "-   using our High Performance Computing resources instead\n",
    "\n",
    "These resources will be available to you at no charge - you should not\n",
    "pay for compute resources for this course."
   ]
  },
  {
   "cell_type": "markdown",
   "metadata": {},
   "source": [
    "### Submitting your work"
   ]
  },
  {
   "cell_type": "markdown",
   "metadata": {},
   "source": [
    "To submit lab assignments, you will need to hand in the “notebook” file (`.ipynb`) including all code and the\n",
    "output of each cell."
   ]
  },
  {
   "cell_type": "markdown",
   "metadata": {},
   "source": [
    "For the `.ipynb` version, you’ll make sure you ran every cell and the\n",
    "output appears as expected. Then, use File \\> Download \\> Download\n",
    "`.ipynb`."
   ]
  }
 ],
 "metadata": {
  "kernelspec": {
   "display_name": "Python 3.9.13 ('itp2')",
   "language": "python",
   "name": "python3"
  },
  "language_info": {
   "name": "python",
   "version": "3.9.13"
  },
  "vscode": {
   "interpreter": {
    "hash": "152200e2ccd6411d8497b614a97aafc99f21ff398a9edf3fadef52bdd57caf02"
   }
  }
 },
 "nbformat": 4,
 "nbformat_minor": 5
}
