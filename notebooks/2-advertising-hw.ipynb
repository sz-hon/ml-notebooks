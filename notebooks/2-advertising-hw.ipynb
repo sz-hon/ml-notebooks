{
 "cells": [
  {
   "cell_type": "markdown",
   "metadata": {},
   "source": [
    "Assignment: Linear regression on the Advertising data\n",
    "=====================================================\n",
    "\n",
    "**This is based on the course of [Fraida Fund](https://colab.research.google.com/github/ffund/ml-notebooks/blob/master/notebooks/1-colab-tour.ipynb) for  NYU Tandon School of Engineering**\n",
    "\n",
    "Submit answers to the questions in Moodle as you work through this notebook."
   ]
  },
  {
   "cell_type": "markdown",
   "metadata": {},
   "source": [
    "To illustrate principles of linear regression, we are going to use some data from the textbook “An Introduction to Statistical Learning withApplications in R” (Gareth James, Daniela Witten, Trevor Hastie, Robert Tibshirani) (available via NYU Library).\n",
    "\n",
    "The dataset is described as follows:\n",
    "\n",
    "> Suppose that we are statistical consultants hired by a client to provide advice on how to improve sales of a particular product. The `Advertising` data set consists of the sales of that product in 200 different markets, along with advertising budgets for the product in each of those markets for three different media: TV, radio, and newspaper.\n",
    ">\n",
    "> …\n",
    ">\n",
    "> It is not possible for our client to directly increase sales of the product. On the other hand, they can control the advertising expenditure in each of the three media. Therefore, if we determine that there is an association between advertising and sales, then we can instruct our client to adjust advertising budgets, thereby indirectly increasing sales. In other words, our goal is to develop an accurate model that can be used to predict sales on the basis of the three media budgets.\n",
    "\n",
    "Sales are reported in thousands of units, and TV, radio, and newspaper budgets, are reported in thousands of dollars.\n",
    "\n",
    "For this assignment, you will fit a linear regression model to a small dataset. You will iteratively improve your linear regression model by examining the residuals at each stage, in order to identify problems with the model.\n",
    "\n",
    "Make sure to include your name in a text cell at the top of the notebook."
   ]
  },
  {
   "cell_type": "code",
   "execution_count": null,
   "metadata": {},
   "outputs": [],
   "source": [
    "from sklearn import metrics\n",
    "from sklearn.linear_model import LinearRegression\n",
    "from sklearn.model_selection import train_test_split\n",
    "\n",
    "import numpy as np\n",
    "import matplotlib.pyplot as plt\n",
    "import pandas as pd\n",
    "import seaborn as sns\n",
    "sns.set()\n",
    "\n",
    "from IPython.core.interactiveshell import InteractiveShell\n",
    "InteractiveShell.ast_node_interactivity = \"all\""
   ]
  },
  {
   "cell_type": "markdown",
   "metadata": {},
   "source": [
    "### 0. Read in and pre-process data\n",
    "\n",
    "In this section, you will read in the “Advertising” data, and make sure it is loaded correctly. Visually inspect the data using a pairplot, and note any meaningful observations. In particular, comment on which features appear to be correlated with product sales, and which features appear to be correlated with one another. Then, split the data into training data (70%) and test data (30%).\n",
    "\n",
    "**The code in this section is provided for you**."
   ]
  },
  {
   "cell_type": "markdown",
   "metadata": {},
   "source": [
    "#### Read in data"
   ]
  },
  {
   "cell_type": "code",
   "execution_count": null,
   "metadata": {},
   "outputs": [],
   "source": [
    "!wget 'https://www.statlearning.com/s/Advertising.csv' -O 'Advertising.csv'"
   ]
  },
  {
   "cell_type": "code",
   "execution_count": null,
   "metadata": {},
   "outputs": [],
   "source": [
    "df  = pd.read_csv('Advertising.csv', index_col=0)\n",
    "df.head()"
   ]
  },
  {
   "cell_type": "markdown",
   "metadata": {},
   "source": [
    "Note that in this dataset, the first column in the data file is the row label; that’s why we use `index_col=0` in the `read_csv` command. If we would omit that argument, then we would have an additional (unnamed) column in the dataset, containing the row number.\n",
    "\n",
    "(You can try removing the `index_col` argument and re-running the cell above, to see the effect and to understand why we used this argument.)"
   ]
  },
  {
   "cell_type": "markdown",
   "metadata": {},
   "source": [
    "#### Visually inspect the data"
   ]
  },
  {
   "cell_type": "code",
   "execution_count": null,
   "metadata": {},
   "outputs": [],
   "source": [
    "sns.pairplot(df);"
   ]
  },
  {
   "cell_type": "markdown",
   "metadata": {},
   "source": [
    "The most important panels here are on the bottom row, where `sales` is on the vertical axis and the advertising budgets are on the horizontal axes.\n",
    "\n",
    "Looking at this row, it appears that TV ad spending and radio ad spending are likely to be useful predictive features for `sales`; for newspaper ad spending, it is not clear from the pairplot whether there is a relationship."
   ]
  },
  {
   "cell_type": "markdown",
   "metadata": {},
   "source": [
    "#### Split up data\n",
    "\n",
    "We will use 70% of the data for training and the remaining 30% to evaluate the regression model on data *not* used for training."
   ]
  },
  {
   "cell_type": "code",
   "execution_count": null,
   "metadata": {},
   "outputs": [],
   "source": [
    "train, test = train_test_split(df, test_size=0.3, random_state=9)"
   ]
  },
  {
   "cell_type": "markdown",
   "metadata": {},
   "source": [
    "We will set the `random_state` to a constant so that every time you run this notebook, exactly the same data points will be assigned to test vs. training sets. This is helpful in the debugging stage."
   ]
  },
  {
   "cell_type": "code",
   "execution_count": null,
   "metadata": {},
   "outputs": [],
   "source": [
    "train.info()"
   ]
  },
  {
   "cell_type": "code",
   "execution_count": null,
   "metadata": {},
   "outputs": [],
   "source": [
    "test.info()"
   ]
  },
  {
   "cell_type": "markdown",
   "metadata": {},
   "source": [
    "### 1. Fit simple linear regression models\n",
    "\n",
    "Use the training data to fit a simple linear regression to predict product sales, for each of three features: TV ad budget, radio ad budget, and newspaper ad budget. In other words, you will fit *three* regression models, with each model being trained on one feature. For each of the three regression models, create a plot of the training data and the regression line, with product sales ($y$) on the vertical axis and the feature on which the model was trained ($x$) on the horizontal axis.\n",
    "\n",
    "Also, for each regression model, print the intercept and coefficients, and compute the MSE and R2 on the training data, and MSE and R2 on the test data.\n",
    "\n",
    "Comment on the results. Which type of ad spending seems to be associated with the largest increase in product sales? Which regression model is most effective at predicting product sales?\n",
    "\n",
    "**The code in this section is provided for you**. However, you will need to add comments, observations, and answers to the questions."
   ]
  },
  {
   "cell_type": "markdown",
   "metadata": {},
   "source": [
    "#### Fit a simple linear regression"
   ]
  },
  {
   "cell_type": "code",
   "execution_count": null,
   "metadata": {},
   "outputs": [],
   "source": [
    "reg_tv    = LinearRegression().fit(train[['TV']], train['sales'])\n",
    "reg_radio = LinearRegression().fit(train[['radio']], train['sales'])\n",
    "reg_news  = LinearRegression().fit(train[['newspaper']], train['sales'])"
   ]
  },
  {
   "cell_type": "markdown",
   "metadata": {},
   "source": [
    "#### Look at coefficients"
   ]
  },
  {
   "cell_type": "code",
   "execution_count": null,
   "metadata": {},
   "outputs": [],
   "source": [
    "print(\"TV       : \", reg_tv.coef_[0], reg_tv.intercept_)\n",
    "print(\"Radio    : \", reg_radio.coef_[0], reg_radio.intercept_)\n",
    "print(\"Newspaper: \", reg_news.coef_[0], reg_news.intercept_)"
   ]
  },
  {
   "cell_type": "markdown",
   "metadata": {},
   "source": [
    "#### Plot data and regression line"
   ]
  },
  {
   "cell_type": "code",
   "execution_count": null,
   "metadata": {},
   "outputs": [],
   "source": [
    "fig = plt.figure(figsize=(12,3))\n",
    "\n",
    "plt.subplot(1,3,1)\n",
    "sns.scatterplot(data=train, x=\"TV\", y=\"sales\");\n",
    "sns.lineplot(data=train, x=\"TV\", y=reg_tv.predict(train[['TV']]), color='red');\n",
    "\n",
    "plt.subplot(1,3,2)\n",
    "sns.scatterplot(data=train, x=\"radio\", y=\"sales\");\n",
    "sns.lineplot(data=train, x=\"radio\", y=reg_radio.predict(train[['radio']]), color='red');\n",
    "\n",
    "plt.subplot(1,3,3)\n",
    "sns.scatterplot(data=train, x=\"newspaper\", y=\"sales\");\n",
    "sns.lineplot(data=train, x=\"newspaper\", y=reg_news.predict(train[['newspaper']]), color='red');"
   ]
  },
  {
   "cell_type": "markdown",
   "metadata": {},
   "source": [
    "#### Compute R2, MSE for simple regression"
   ]
  },
  {
   "cell_type": "code",
   "execution_count": null,
   "metadata": {},
   "outputs": [],
   "source": [
    "y_pred_tr_tv    = reg_tv.predict(train[['TV']])\n",
    "y_pred_tr_radio = reg_radio.predict(train[['radio']])\n",
    "y_pred_tr_news  = reg_news.predict(train[['newspaper']])"
   ]
  },
  {
   "cell_type": "code",
   "execution_count": null,
   "metadata": {},
   "outputs": [],
   "source": [
    "r2_tr_tv    = metrics.r2_score(train['sales'], y_pred_tr_tv)\n",
    "r2_tr_radio = metrics.r2_score(train['sales'], y_pred_tr_radio)\n",
    "r2_tr_news  = metrics.r2_score(train['sales'], y_pred_tr_news)\n",
    "print(\"TV       : \", r2_tr_tv)\n",
    "print(\"Radio    : \", r2_tr_radio)\n",
    "print(\"Newspaper: \", r2_tr_news)"
   ]
  },
  {
   "cell_type": "code",
   "execution_count": null,
   "metadata": {},
   "outputs": [],
   "source": [
    "mse_tr_tv    = metrics.mean_squared_error(train['sales'], y_pred_tr_tv)\n",
    "mse_tr_radio = metrics.mean_squared_error(train['sales'], y_pred_tr_radio)\n",
    "mse_tr_news  = metrics.mean_squared_error(train['sales'], y_pred_tr_news)\n",
    "print(\"TV       : \", mse_tr_tv)\n",
    "print(\"Radio    : \", mse_tr_radio)\n",
    "print(\"Newspaper: \", mse_tr_news)"
   ]
  },
  {
   "cell_type": "code",
   "execution_count": null,
   "metadata": {},
   "outputs": [],
   "source": [
    "y_pred_ts_tv    = reg_tv.predict(test[['TV']])\n",
    "y_pred_ts_radio = reg_radio.predict(test[['radio']])\n",
    "y_pred_ts_news  = reg_news.predict(test[['newspaper']])"
   ]
  },
  {
   "cell_type": "code",
   "execution_count": null,
   "metadata": {},
   "outputs": [],
   "source": [
    "r2_ts_tv    = metrics.r2_score(test['sales'], y_pred_ts_tv)\n",
    "r2_ts_radio = metrics.r2_score(test['sales'], y_pred_ts_radio)\n",
    "r2_ts_news  = metrics.r2_score(test['sales'], y_pred_ts_news)\n",
    "print(\"TV       : \", r2_ts_tv)\n",
    "print(\"Radio    : \", r2_ts_radio)\n",
    "print(\"Newspaper: \", r2_ts_news)"
   ]
  },
  {
   "cell_type": "code",
   "execution_count": null,
   "metadata": {},
   "outputs": [],
   "source": [
    "mse_ts_tv    = metrics.mean_squared_error(test['sales'], y_pred_ts_tv)\n",
    "mse_ts_radio = metrics.mean_squared_error(test['sales'], y_pred_ts_radio)\n",
    "mse_ts_news  = metrics.mean_squared_error(test['sales'], y_pred_ts_news)\n",
    "print(\"TV       : \", mse_ts_tv)\n",
    "print(\"Radio    : \", mse_ts_radio)\n",
    "print(\"Newspaper: \", mse_ts_news)"
   ]
  },
  {
   "cell_type": "markdown",
   "metadata": {},
   "source": [
    "### 2. Explore the residuals for the single linear regression models\n",
    "\n",
    "We know that computing MSE or R2 is not sufficient to diagnose a problem with a linear regression.\n",
    "\n",
    "Create some additional plots as described below to help you identify any problems with the regression. Use training data for all of the items below.\n",
    "\n",
    "For each of the three regression models, you will compute the residuals ($y - \\hat{y}$). Then, you’ll create three plots - each with three subplots, one for each regression model - as follows:\n",
    "\n",
    "**Plot 1**: Create a scatter plot of predicted sales ($\\hat{y}$) on the vertical axis, and actual sales ($y$) on the horizontal axis. Make sure both axes use the same scale (the range of the vertical axis should be the same as the range of the horizontal axis) *and* that all three subplots use the same scale. Label each axes, and each plot. What would you expect this plot to look like for a model that explains the data well?\n",
    "\n",
    "**Plot 2**: Create a scatter plot with the residuals ($y - \\hat{y}$) on the vertical axis, and actual sales ($y$) on the horizontal axis. Use the same scale for all three subplots. Comment on your observations. Is there a pattern in the residuals (and if so, what might it indicate), or do they appear to have no pattern with respect to actual sales?\n",
    "\n",
    "**Plot 3**: For each of the three regression models AND each of the three features, create a scatter plot with the residuals ($y - \\hat{y}$) on the vertical axis, and the feature ($x$) on the horizontal axis. This plot will include nine subplots in total, for every combination of regression model and feature. Make sure to clearly label each axis, and also label each subplot with a title that indicates which regression model it uses. Is there a pattern in the residuals (and if so, what might it indicate), or do they appear to have no pattern with respect to each of the three features?\n",
    "\n",
    "**The code in this section is not provided for you**. You will need to write code, as well as comments, observations, and answers to the questions.\n",
    "\n",
    "------------------------------------------------------------------------\n",
    "\n",
    "Note that in general, to earn full credit, plots must:\n",
    "\n",
    "-   Be readable (especially text size).\n",
    "-   Have a label on each axis.\n",
    "-   Have an appropriate range for each axis. When there are multiple subplots, if the goal is to compare similar things in different subplots, in most cases it is appropriate for them all to use the same range.\n",
    "-   If there are multiple subplots, or multiple data series in the same plot, it must be made clear which is which."
   ]
  },
  {
   "cell_type": "markdown",
   "metadata": {},
   "source": [
    "### 3. Try a multiple linear regression\n",
    "\n",
    "Next, fit a multiple linear regression to predict product sales, using all three features to train a single model: TV ad budget, radio ad budget, and newspaper ad budget.\n",
    "\n",
    "Print the intercept and coefficients, and compute the MSE and R2 on the training data, and MSE and R2 on the test data. Comment on the results. Make sure to explain any differences between the coefficients of the multiple regression model, and the coefficients of the three simple linear regression models. If they are different, why?\n",
    "\n",
    "**The code in the first part of this section is provided for you**. However, you will need to add comments, observations, and answers to the questions.\n",
    "\n",
    "Also repeat the analysis of part (3) for this regression model. Use training data for all of these items:\n",
    "\n",
    "**Plot 1**: Create a scatter plot of predicted sales ($\\hat{y}$) on the vertical axis, and actual sales ($y$) on the horizontal axis. Make sure both axes use the same scale (the range of the vertical axis should be the same as the range of the horizontal axis). Label each axes. Does this model explain the data more effectively than the simple linear regressions from the previous section?\n",
    "\n",
    "**Plot 2**: Create a scatter plot with the residuals ($y - \\hat{y}$) on the vertical axis, and actual sales ($y$) on the horizontal axis. Comment on your observations. Is there a pattern in the residuals (and if so, what might it indicate), or do they appear to have no pattern with respect to actual sales?\n",
    "\n",
    "**Plot 3**: For each of the three features, plot the residuals ($y - \\hat{y}$) on the vertical axis, and the feature ($x$) on the horizontal axis. Make sure to clearly label each axis. Is there a pattern in the residuals (and if so, what might it indicate), or do they appear to have no pattern with respect to each of the three features?\n",
    "\n",
    "------------------------------------------------------------------------\n",
    "\n",
    "Note that in general, to earn full credit, plots must:\n",
    "\n",
    "-   Be readable (especially text size).\n",
    "-   Have a label on each axis.\n",
    "-   Have an appropriate range for each axis. When there are multiple subplots, if the goal is to compare similar things in different subplots, in most cases it is appropriate for them all to use the same range.\n",
    "-   If there are multiple subplots, or multiple data series in the same plot, it must be made clear which is which."
   ]
  },
  {
   "cell_type": "markdown",
   "metadata": {},
   "source": [
    "#### Fit a multiple linear regression"
   ]
  },
  {
   "cell_type": "code",
   "execution_count": null,
   "metadata": {},
   "outputs": [],
   "source": [
    "reg_multi = LinearRegression().fit(train[['TV', 'radio', 'newspaper']], train['sales'])"
   ]
  },
  {
   "cell_type": "markdown",
   "metadata": {},
   "source": [
    "#### Look at coefficients"
   ]
  },
  {
   "cell_type": "code",
   "execution_count": null,
   "metadata": {},
   "outputs": [],
   "source": [
    "print(\"Coefficients (TV, radio, newspaper):\", reg_multi.coef_)\n",
    "print(\"Intercept: \", reg_multi.intercept_)"
   ]
  },
  {
   "cell_type": "markdown",
   "metadata": {},
   "source": [
    "#### Compute R2, MSE for multiple regression"
   ]
  },
  {
   "cell_type": "code",
   "execution_count": null,
   "metadata": {},
   "outputs": [],
   "source": [
    "y_pred_tr_multi = reg_multi.predict(train[['TV', 'radio', 'newspaper']])\n",
    "\n",
    "r2_tr_multi  = metrics.r2_score(train['sales'], y_pred_tr_multi)\n",
    "mse_tr_multi = metrics.mean_squared_error(train['sales'], y_pred_tr_multi)\n",
    "\n",
    "print(\"Multiple regression R2:  \", r2_tr_multi)\n",
    "print(\"Multiple regression MSE: \", mse_tr_multi)\n"
   ]
  },
  {
   "cell_type": "code",
   "execution_count": null,
   "metadata": {},
   "outputs": [],
   "source": [
    "y_pred_ts_multi = reg_multi.predict(test[['TV', 'radio', 'newspaper']])\n",
    "\n",
    "r2_ts_multi  = metrics.r2_score(test['sales'], y_pred_ts_multi)\n",
    "mse_ts_multi = metrics.mean_squared_error(test['sales'], y_pred_ts_multi)\n",
    "\n",
    "print(\"Multiple regression R2:  \", r2_ts_multi)\n",
    "print(\"Multiple regression MSE: \", mse_ts_multi)\n"
   ]
  },
  {
   "cell_type": "markdown",
   "metadata": {},
   "source": [
    "### 4. Linear regression with interaction terms\n",
    "\n",
    "Our multiple linear regression includes additive effects of all three types of advertising media. However, it does not include *interaction* effects, in which combining different types of advertising media together results in a bigger boost in sales than just the additive effect of the individual media.\n",
    "\n",
    "The pattern in the residuals plots from parts (1) through (3) suggest that a model including an interaction effect may explain sales data better than a model including additive effects. Add four columns to each data frame (`train` and `test`):\n",
    "\n",
    "-   `newspaper` $\\times$ `radio` (name this column `newspaper_radio`)\n",
    "-   `TV` $\\times$ `radio` (name this column `TV_radio`)\n",
    "-   `newspaper` $\\times$ `TV` (name this column `newspaper_TV`)\n",
    "-   `newspaper` $\\times$ `radio` $\\times$ `TV` (name this column `newspaper_radio_TV`)\n",
    "\n",
    "Note: you can use the `assign` function in `pandas` ([documentation here](https://pandas.pydata.org/docs/reference/api/pandas.DataFrame.assign.html)) to create a new column and assign a value to it using operations on other columns.\n",
    "\n",
    "Then, train a linear regression model on all seven features: the three types of ad budgets, and the four interaction effects. Repeat the analysis of part (3) for the model including interaction effects. Are the interaction effects helpful for explaining the effect of ads on product sales? Are there any patterns evident in the residual plots that suggest further opportunities for improving the model?\n",
    "\n",
    "**The code in this section is not provided for you**. You will need to write code, in addition to comments, observations, and answers to the questions.\n",
    "\n",
    "------------------------------------------------------------------------\n",
    "\n",
    "Note that in general, to earn full credit, plots must:\n",
    "\n",
    "-   Be readable (especially text size).\n",
    "-   Have a label on each axis.\n",
    "-   Have an appropriate range for each axis. When there are multiple subplots, if the goal is to compare similar things in different subplots, in most cases it is appropriate for them all to use the same range.\n",
    "-   If there are multiple subplots, or multiple data series in the same plot, it must be made clear which is which."
   ]
  }
 ],
 "metadata": {
  "language_info": {
   "name": "python"
  }
 },
 "nbformat": 4,
 "nbformat_minor": 5
}
