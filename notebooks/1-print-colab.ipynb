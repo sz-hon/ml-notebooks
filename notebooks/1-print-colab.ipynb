{
 "cells": [
  {
   "cell_type": "markdown",
   "metadata": {},
   "source": [
    "Printing from Colab\n",
    "===================\n",
    "\n",
    "**This is based on the course of [Fraida Fund](https://colab.research.google.com/github/ffund/ml-notebooks/blob/master/notebooks/1-colab-tour.ipynb) for  NYU Tandon School of Engineering*sed on the course of [Fraida Fund](https://colab.research.google.com/github/ffund/ml-notebooks/blob/master/notebooks/1-colab-tour.ipynb) for  NYU Tandon School of Engineering*sed on the course of [Fraida Fund](https://colab.research.google.com/github/ffund/ml-notebooks/blob/master/notebooks/1-colab-tour.ipynb) for  NYU Tandon School of Engineering*sed on the course of [Fraida Fund](https://colab.research.google.com/github/ffund/ml-notebooks/blob/master/notebooks/1-colab-tour.ipynb) for  NYU Tandon School of Engineering*sed on the course of [Fraida Fund](https://colab.research.google.com/github/ffund/ml-notebooks/blob/master/notebooks/1-colab-tour.ipynb) for  NYU Tandon School of Engineering**\n",
    "\n",
    "[![Open In\n",
    "Colab](https://colab.research.google.com/assets/colab-badge.svg)](https://colab.research.google.com/github/ffund/ml-notebooks/blob/master/notebooks/1-print-colab.ipynb)"
   ]
  },
  {
   "cell_type": "markdown",
   "metadata": {},
   "source": [
    "To submit homework assignments, you will need to generate PDF versions\n",
    "of your completed Colab notebooks.\n",
    "\n",
    "Printing to a PDF from Colab seems easy - there’s a File \\> Print option\n",
    "in the menu! However, the built-in print option won’t always work well\n",
    "for us, because if a plot or other output happens to come out near a\n",
    "page break, it can get cut off."
   ]
  },
  {
   "cell_type": "markdown",
   "metadata": {},
   "source": [
    "As an alternative to Colab’s built-in print, you can use this notebook\n",
    "to generate a PDF version of any Colab notebook that is saved in your\n",
    "Google Drive."
   ]
  },
  {
   "cell_type": "markdown",
   "metadata": {},
   "source": [
    "Step 1: Prepare the source notebook\n",
    "-----------------------------------\n",
    "\n",
    "Make sure the notebook that you want to print is ready:\n",
    "\n",
    "-   you ran the cells in the notebook (in order!) and their output is\n",
    "    visible in the notebook\n",
    "-   it is saved in your Google Drive"
   ]
  },
  {
   "cell_type": "markdown",
   "metadata": {},
   "source": [
    "Step 2: Install software and libraries\n",
    "--------------------------------------\n",
    "\n",
    "In *this* notebook, run the following cell:"
   ]
  },
  {
   "cell_type": "code",
   "execution_count": null,
   "metadata": {},
   "outputs": [],
   "source": [
    "!apt-get update\n",
    "!apt-get install texlive texlive-xetex texlive-latex-extra pandoc\n",
    "!pip install pypandoc"
   ]
  },
  {
   "cell_type": "markdown",
   "metadata": {},
   "source": [
    "Step 3: Mount your Google Drive\n",
    "-------------------------------\n",
    "\n",
    "In *this* notebook, mount your Google Drive:"
   ]
  },
  {
   "cell_type": "code",
   "execution_count": null,
   "metadata": {},
   "outputs": [],
   "source": [
    "from google.colab import drive\n",
    "drive.mount('/content/drive')"
   ]
  },
  {
   "cell_type": "markdown",
   "metadata": {},
   "source": [
    "Step 4: Select notebook and convert to PDF\n",
    "------------------------------------------\n",
    "\n",
    "In *both* of the following cells, change the name “Untitled” to whatever\n",
    "your notebook is named. Then, run the cells."
   ]
  },
  {
   "cell_type": "code",
   "execution_count": null,
   "metadata": {},
   "outputs": [],
   "source": [
    "!jupyter nbconvert --output-dir='/content' --to latex  '/content/drive/My Drive/Colab Notebooks/Untitled.ipynb'"
   ]
  },
  {
   "cell_type": "code",
   "execution_count": null,
   "metadata": {},
   "outputs": [],
   "source": [
    "!buf_size=1000000 xelatex --interaction=nonstopmode 'Untitled.tex'"
   ]
  },
  {
   "cell_type": "markdown",
   "metadata": {},
   "source": [
    "Step 5: Download PDF\n",
    "--------------------\n",
    "\n",
    "Finally, open the Colab file browser, locate your new PDF, and download\n",
    "it. Review the PDF and make sure it looks good before you submit!"
   ]
  }
 ],
 "nbformat": 4,
 "nbformat_minor": 5,
 "metadata": {}
}
