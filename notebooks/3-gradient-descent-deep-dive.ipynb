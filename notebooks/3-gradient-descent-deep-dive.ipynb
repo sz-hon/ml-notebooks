{
 "cells": [
  {
   "cell_type": "markdown",
   "id": "497565d2-cb88-4df2-b8ca-4abdf118a34f",
   "metadata": {},
   "source": [
    "# Gradient descent in depth\n",
    "\n",
    "*This is based on the course of [Fraida Fund](https://colab.research.google.com/github/ffund/ml-notebooks/blob/master/notebooks/1-colab-tour.ipynb) for  NYU Tandon School of Engineering*"
   ]
  },
  {
   "cell_type": "code",
   "execution_count": null,
   "id": "9f541d76-51c3-4eb2-8be4-083ba6886b3b",
   "metadata": {},
   "outputs": [],
   "source": [
    "import numpy as np\n",
    "import matplotlib.pyplot as plt\n",
    "from matplotlib import cm\n",
    "import pandas as pd\n",
    "import seaborn as sns\n",
    "sns.set()\n",
    "colors = sns.color_palette(\"hls\", 4)\n",
    "\n",
    "# for 3d interactive plots\n",
    "from ipywidgets import interact, fixed, widgets\n",
    "from mpl_toolkits import mplot3d\n",
    "\n",
    "from IPython.core.interactiveshell import InteractiveShell\n",
    "InteractiveShell.ast_node_interactivity = \"all\""
   ]
  },
  {
   "cell_type": "markdown",
   "id": "d49699dc-984c-4cbe-8d20-84fec0b48208",
   "metadata": {},
   "source": [
    "## Gradient descent for simple linear regression"
   ]
  },
  {
   "cell_type": "markdown",
   "id": "7b389e55-a5d3-4a5a-9b9e-929c9ca6544b",
   "metadata": {},
   "source": [
    "### Generate data"
   ]
  },
  {
   "cell_type": "code",
   "execution_count": null,
   "id": "dabf0130-245b-409d-95bb-1dff79d44697",
   "metadata": {},
   "outputs": [],
   "source": [
    "def generate_linear_regression_data(n=100, d=1, coef=[5], intercept=1, sigma=0):\n",
    "  x = np.random.randn(n,d)\n",
    "  y = (np.dot(x, coef) + intercept).squeeze() + sigma * np.random.randn(n)\n",
    "  return x, y"
   ]
  },
  {
   "cell_type": "code",
   "execution_count": null,
   "id": "b5fdd807-3ff4-4031-8e11-f9cb30ba4dd1",
   "metadata": {},
   "outputs": [],
   "source": [
    "# y = 2 + 3x\n",
    "w_true = np.array([2, 3])\n",
    "n_samples = 100"
   ]
  },
  {
   "cell_type": "code",
   "execution_count": null,
   "id": "70500913-47ae-4d9d-be09-7051ac77ac4e",
   "metadata": {},
   "outputs": [],
   "source": [
    "x, y = generate_linear_regression_data(n=n_samples, d=1, coef=w_true[1:], intercept= w_true[0])"
   ]
  },
  {
   "cell_type": "code",
   "execution_count": null,
   "id": "fc6415b6-2266-41db-92d6-c2518e4fe7de",
   "metadata": {},
   "outputs": [],
   "source": [
    "# create the \"design matrix\" with a ones column at beginning\n",
    "X = np.hstack((np.ones((n_samples, 1)), x))\n",
    "X.shape"
   ]
  },
  {
   "cell_type": "markdown",
   "id": "09729f3e-c286-460f-abd3-49cdff47d0ef",
   "metadata": {},
   "source": [
    "### Define a descent step"
   ]
  },
  {
   "cell_type": "markdown",
   "id": "e5687485-726b-48da-9308-801a96532d25",
   "metadata": {},
   "source": [
    "In each gradient descent step, we will compute\n",
    "\n",
    "$$ \n",
    "w^{t+1} = w^t - \\alpha^t \\nabla L(w^t)  \n",
    "$$\n",
    "\n",
    "With a mean squared error loss function\n",
    "\n",
    "$$ \n",
    "\\begin{aligned}\n",
    "L(w) &= \\frac{1}{n} \\sum_{i=1}^n (y_i - \\langle w,x_i \\rangle)^2 \\\\\n",
    "     &= \\frac{1}{n} \\|y - Xw\\|^2 \n",
    "\\end{aligned}\n",
    "$$\n",
    "\n",
    "we will compute the weights at each step as\n",
    "\n",
    "$$\n",
    "\\begin{aligned} \n",
    "w^{t+1} &= w^t + \\frac{\\alpha^t}{n} \\sum_{i=1}^n (y_i - \\langle w^t,x_i \\rangle) x_i \\\\\n",
    "        &= w^t + \\frac{\\alpha^t}{n} X^T (y - X w^t)                  \n",
    "\\end{aligned}\n",
    "$$\n",
    "\n",
    "$\\alpha$ ... Learning rate\n",
    "\n",
    "$w$ ... Weight\n",
    "\n",
    "$\\nabla$ ... Derivative"
   ]
  },
  {
   "cell_type": "code",
   "execution_count": null,
   "id": "319a8184-a594-457c-acf9-9efb25a5cc8d",
   "metadata": {},
   "outputs": [],
   "source": [
    "def gd_step(w, X, y, lr):\n",
    "  # use current parameters to get y_hat\n",
    "  y_hat = np.dot(X,w)\n",
    "  error = y_hat-y\n",
    "  # compute gradient for this y_hat\n",
    "  grad = np.matmul(X.T, error)\n",
    "  # update weights\n",
    "  w_new = w - (lr/X.shape[0])*grad\n",
    "\n",
    "  # we don't have to actually compute MSE\n",
    "  # but I want to, for visualization \n",
    "  mse = np.mean(error**2, axis=0)\n",
    "\n",
    "  return (w_new, mse, grad)"
   ]
  },
  {
   "cell_type": "markdown",
   "id": "7337d064-25b9-4311-9af7-6d150d21d0d3",
   "metadata": {},
   "source": [
    "Note: in the update rule, the signs are different from the expression above because we switched the order of the terms in the error expression: we used $\\hat{y} - y$."
   ]
  },
  {
   "cell_type": "markdown",
   "id": "abdaa57f-c6b6-4f7e-bb0f-e84a0d18f97f",
   "metadata": {},
   "source": [
    "### Perform gradient descent"
   ]
  },
  {
   "cell_type": "code",
   "execution_count": null,
   "id": "118b4e5b-8eb3-4c19-8e90-2037fbcdb614",
   "metadata": {},
   "outputs": [],
   "source": [
    "# gradient descent settings: number of iterations, learning rate, starting point\n",
    "itr = 50\n",
    "lr = 0.1\n",
    "w_init = np.random.uniform(3,7,len(w_true))\n",
    "print(w_init)"
   ]
  },
  {
   "cell_type": "code",
   "execution_count": null,
   "id": "5bf78c2d-dccd-4833-8f43-03d3b6285a72",
   "metadata": {},
   "outputs": [],
   "source": [
    "w_steps = np.zeros((itr, len(w_init)))\n",
    "mse_steps = np.zeros(itr)\n",
    "grad_steps = np.zeros((itr, len(w_init)))\n",
    "\n",
    "w_star = w_init\n",
    "for i in range(itr):\n",
    "  w_star, mse, gradient = gd_step(w_star, X, y, lr)\n",
    "  w_steps[i] = w_star\n",
    "  mse_steps[i] = mse\n",
    "  grad_steps[i] = gradient"
   ]
  },
  {
   "cell_type": "markdown",
   "id": "246698d6-a53a-489a-9176-22d05bb8b56c",
   "metadata": {},
   "source": [
    "### Visualize"
   ]
  },
  {
   "cell_type": "code",
   "execution_count": null,
   "id": "f5b0b287-1adf-47e5-9846-1131b1eee071",
   "metadata": {},
   "outputs": [],
   "source": [
    "plt.figure(figsize=(18,5))\n",
    "plt.subplot(1,3,1);\n",
    "\n",
    "for n, w in enumerate(w_true):\n",
    "  plt.axhline(y=w, linestyle='--', color=colors[n]);\n",
    "  sns.lineplot(x=np.arange(itr), y=w_steps[:,n], color=colors[n]);\n",
    "\n",
    "plt.xlabel(\"Iteration\");\n",
    "plt.ylabel(\"Coefficient Value\");\n",
    "\n",
    "plt.subplot(1,3, 2);\n",
    "sns.lineplot(x=np.arange(itr), y=mse_steps);\n",
    "#plt.yscale(\"log\")\n",
    "plt.xlabel(\"Iteration\");\n",
    "plt.ylabel(\"Training MSE\");\n",
    "\n",
    "\n",
    "plt.subplot(1, 3, 3);\n",
    "for n, w in enumerate(w_true):\n",
    "  sns.lineplot(x=np.arange(itr), y=grad_steps[:,n], color=colors[n]);\n",
    "plt.xlabel(\"Iteration\");\n",
    "plt.ylabel(\"Gradient\");\n",
    "\n",
    "plt.suptitle(\"Estimate after %d iterations with rate %s: %s\" % \n",
    "          (itr, \"{0:0.4f}\".format(lr), [\"{0:0.4f}\".format(w) for w in w_star]));"
   ]
  },
  {
   "cell_type": "markdown",
   "id": "14d652a9-7c0e-4d89-99ff-d255fd38d9f5",
   "metadata": {},
   "source": [
    "### Other things to try\n",
    "\n",
    "-   What happens if we increase the learning rate?\n",
    "-   What happens if we decrease the learning rate?"
   ]
  },
  {
   "cell_type": "markdown",
   "id": "038d6cf0-db0b-47d4-a6ad-9ff7cb66ca9b",
   "metadata": {},
   "source": [
    "### Descent path on MSE contour"
   ]
  },
  {
   "cell_type": "markdown",
   "id": "cc01270a-b8b8-41c4-a57a-eebabc88e810",
   "metadata": {},
   "source": [
    "Generating data for a multiple regression (with two features):"
   ]
  },
  {
   "cell_type": "code",
   "execution_count": null,
   "id": "77d8a4f8-7b9f-491c-923e-61067f18604a",
   "metadata": {},
   "outputs": [],
   "source": [
    "w_true = [2, 6, 5]\n",
    "n_samples = 100\n",
    "x, y = generate_linear_regression_data(n=n_samples, d=2, coef=w_true[1:], intercept=w_true[0])\n",
    "X = np.hstack((np.ones((n_samples, 1)), x))\n",
    "X.shape"
   ]
  },
  {
   "cell_type": "code",
   "execution_count": null,
   "id": "6abbc4cd-4ee3-46a2-9e5d-cf5aab046a40",
   "metadata": {},
   "outputs": [],
   "source": [
    "# gradient descent settings: number of iterations, learning rate, starting point\n",
    "itr = 50\n",
    "lr = 0.1\n",
    "w_init = np.random.uniform(3, 7, len(w_true))\n",
    "print(w_init)"
   ]
  },
  {
   "cell_type": "code",
   "execution_count": null,
   "id": "6e6e2164-9a34-4aa0-b305-a5b4e2f795a2",
   "metadata": {},
   "outputs": [],
   "source": [
    "w_steps = np.zeros((itr, len(w_init)))\n",
    "mse_steps = np.zeros(itr)\n",
    "grad_steps = np.zeros((itr, len(w_init)))\n",
    "\n",
    "w_star = w_init\n",
    "for i in range(itr):\n",
    "  w_star, mse, gradient = gd_step(w_star, X, y, lr)\n",
    "  w_steps[i] = w_star\n",
    "  mse_steps[i] = mse\n",
    "  grad_steps[i] = gradient"
   ]
  },
  {
   "cell_type": "code",
   "execution_count": null,
   "id": "5d1c27d9-349a-4245-af87-0cb65abe1620",
   "metadata": {},
   "outputs": [],
   "source": [
    "coefs = np.arange(2, 8, 0.05)\n",
    "\n",
    "coef_grid = np.array(np.meshgrid(coefs, coefs)).reshape(1, 2, coefs.shape[0], coefs.shape[0])\n",
    "y_hat_c = (w_true[0] + np.sum(coef_grid * x.reshape(x.shape[0], 2, 1, 1), axis=1) )\n",
    "mses_coefs = np.mean((y.reshape(-1, 1, 1)- y_hat_c)**2,axis=0)"
   ]
  },
  {
   "cell_type": "code",
   "execution_count": null,
   "id": "3a53f300-7d5c-4f59-b799-ff5f1604da87",
   "metadata": {},
   "outputs": [],
   "source": [
    "plt.figure(figsize=(5,5));\n",
    "X1, X2 = np.meshgrid(coefs, coefs);\n",
    "p = plt.contour(X1, X2, mses_coefs, levels=5);\n",
    "plt.clabel(p, inline=1, fontsize=10);\n",
    "plt.xlabel('w1');\n",
    "plt.ylabel('w2');\n",
    "sns.lineplot(x=w_steps[:,1], y=w_steps[:,2], color='black', sort=False, alpha=0.5);\n",
    "sns.scatterplot(x=w_steps[:,1], y=w_steps[:,2], hue=np.arange(itr), edgecolor=None);\n",
    "plt.scatter(w_true[1], w_true[2], c='black', marker='*');\n",
    "plt.title(\"Estimate after %d iterations with rate %s: %s\" % (itr, \"{0:0.4f}\".format(lr), [\"{0:0.4f}\".format(w) for w in w_star]));\n"
   ]
  },
  {
   "cell_type": "code",
   "execution_count": null,
   "id": "05f9b2f2-4ccd-4d30-b816-8332d3abd1c7",
   "metadata": {},
   "outputs": [],
   "source": [
    "def plot_3D(elev=20, azim=-20, X1=X1, X2=X2, mses_coefs=mses_coefs, \n",
    "            w_steps=w_steps, mse_steps=mse_steps):\n",
    "\n",
    "    plt.figure(figsize=(10,10))\n",
    "    ax = plt.subplot(projection='3d')\n",
    "\n",
    "    # Plot the surface.\n",
    "    ax.plot_surface(X1, X2, mses_coefs, alpha=0.5, cmap=cm.coolwarm,\n",
    "                          linewidth=0, antialiased=False)\n",
    "    ax.scatter3D(w_steps[:, 1], w_steps[:, 2], mse_steps, s=5, color='black')\n",
    "    ax.plot(w_steps[:, 1], w_steps[:, 2], mse_steps, color='gray')\n",
    "\n",
    "    ax.view_init(elev=elev, azim=azim)\n",
    "    ax.set_xlabel('w1')\n",
    "    ax.set_ylabel('w2')\n",
    "    ax.set_zlabel('MSE')\n",
    "\n",
    "interact(plot_3D, elev=widgets.IntSlider(min=-90, max=90, step=10, value=20), \n",
    "          azim=widgets.IntSlider(min=-90, max=90, step=10, value=20),\n",
    "         X1=fixed(X1), X2=fixed(X2), mses_coefs=fixed(mses_coefs),\n",
    "         w_steps=fixed(w_steps), mse_steps=fixed(mse_steps));"
   ]
  },
  {
   "cell_type": "markdown",
   "id": "c0d880a9-24e8-478f-b110-2350aafc7d4b",
   "metadata": {},
   "source": [
    "## Stochastic gradient descent\n",
    "\n",
    "For stochastic gradient descent, we will compute the gradient and update the weights using one sample (or a mini-batch of samples) in each step.\n",
    "\n",
    "**A note on sampling**: In practice, the samples are often sampled without replacement, but the statistical guarantee of convergence is for sampling with replacement. In this example, we sample with replacement. You can read more about different varieties of gradient descent and stochastic gradient descent in [How is stochastic gradient descent implemented in the context of machine learning and deep learning](https://sebastianraschka.com/faq/docs/sgd-methods.html)."
   ]
  },
  {
   "cell_type": "markdown",
   "id": "32f7bfee-f9fe-4a34-97bf-98e212c701ca",
   "metadata": {},
   "source": [
    "### Define a stochastic descent step"
   ]
  },
  {
   "cell_type": "code",
   "execution_count": null,
   "id": "40d40060-2bab-43ed-9099-f3c0351e3958",
   "metadata": {},
   "outputs": [],
   "source": [
    "def sgd_step(w, X, y, lr, n):\n",
    "\n",
    "  idx_sample = np.random.choice(X.shape[0], n, replace=True)\n",
    "\n",
    "  X_sample = X[idx_sample, :]\n",
    "  y_sample = y[idx_sample]\n",
    "\n",
    "  # use current parameters to get y_hat\n",
    "  y_hat = np.dot(X_sample,w)\n",
    "  error = y_hat-y_sample\n",
    "  # compute gradient for this y_hat\n",
    "  grad = np.matmul(X_sample.T, error)\n",
    "  # update weights\n",
    "  w_new = w - (lr/n)*grad\n",
    "\n",
    "  # we don't have to actually compute MSE\n",
    "  # but I want to, for visualization \n",
    "  # note: MSE is computed on entire data, not sample\n",
    "  mse = np.mean((y-np.dot(X, w))**2, axis=0)\n",
    "\n",
    "  return (w_new, mse, grad)"
   ]
  },
  {
   "cell_type": "markdown",
   "id": "ee89ee94-a892-4c9c-b792-2efaee808176",
   "metadata": {},
   "source": [
    "### Perform stochastic gradient descent"
   ]
  },
  {
   "cell_type": "code",
   "execution_count": null,
   "id": "55e0af88-5d57-41d6-acb8-ddbbf060d320",
   "metadata": {},
   "outputs": [],
   "source": [
    "# now we have another gradient descent option: how many samples in a \"batch\" \n",
    "itr = 50\n",
    "lr = 0.1\n",
    "n_batch = 1\n",
    "w_init = [w_true[0], 2, 8]"
   ]
  },
  {
   "cell_type": "code",
   "execution_count": null,
   "id": "09884d64-d480-4749-8319-91e60f9b75b8",
   "metadata": {},
   "outputs": [],
   "source": [
    "w_steps = np.zeros((itr, len(w_init)))\n",
    "mse_steps = np.zeros(itr)\n",
    "\n",
    "w_star = w_init\n",
    "for i in range(itr):\n",
    "  w_star, mse, grad = sgd_step(w_star, X, y, lr, n_batch)\n",
    "  w_steps[i] = w_star\n",
    "  mse_steps[i] = mse"
   ]
  },
  {
   "cell_type": "markdown",
   "id": "92397cf0-7172-44f3-825a-e43c431e1a2f",
   "metadata": {},
   "source": [
    "### Visualize"
   ]
  },
  {
   "cell_type": "code",
   "execution_count": null,
   "id": "a906d348-394a-4fb7-b9d2-44e239435489",
   "metadata": {},
   "outputs": [],
   "source": [
    "plt.figure(figsize=(18,5))\n",
    "plt.subplot(1,3,1);\n",
    "\n",
    "for n, w in enumerate(w_true):\n",
    "  plt.axhline(y=w, linestyle='--', color=colors[n]);\n",
    "  sns.lineplot(x=np.arange(itr), y=w_steps[:,n], color=colors[n], label='w' + str(n));\n",
    "plt.xlabel(\"Iteration\");\n",
    "plt.ylabel(\"Coefficient Value\");\n",
    "\n",
    "plt.subplot(1, 3, 2);\n",
    "sns.lineplot(x=np.arange(itr), y=mse_steps);\n",
    "#plt.yscale(\"log\")\n",
    "plt.xlabel(\"Iteration\");\n",
    "plt.ylabel(\"Training MSE\");\n",
    "\n",
    "\n",
    "plt.subplot(1, 3, 3);\n",
    "X1, X2 = np.meshgrid(coefs, coefs);\n",
    "p = plt.contour(X1, X2, mses_coefs, levels=5);\n",
    "plt.clabel(p, inline=1, fontsize=10);\n",
    "plt.xlabel('w1');\n",
    "plt.ylabel('w2');\n",
    "sns.lineplot(x=w_steps[:,1], y=w_steps[:,2], color='black', sort=False, alpha=0.5);\n",
    "sns.scatterplot(x=w_steps[:,1], y=w_steps[:,2], hue=np.arange(itr), edgecolor=None);\n",
    "plt.scatter(w_true[1], w_true[2], c='black', marker='*');\n",
    "\n",
    "plt.suptitle(\"Estimate after %d iterations with rate %s and batch size %d: %s\" % \n",
    "            (itr, \"{0:0.4f}\".format(lr), n_batch, [\"{0:0.4f}\".format(w) for w in w_star]));"
   ]
  },
  {
   "cell_type": "code",
   "execution_count": null,
   "id": "7a9175f4-ad79-405b-9ad5-c36e5bbf4ed7",
   "metadata": {},
   "outputs": [],
   "source": [
    "def plot_3D(elev=20, azim=-20, X1=X1, X2=X2, mses_coefs=mses_coefs, \n",
    "            w_steps=w_steps, mse_steps=mse_steps):\n",
    "\n",
    "    plt.figure(figsize=(10,10))\n",
    "    ax = plt.subplot(projection='3d')\n",
    "\n",
    "\n",
    "    # Plot the surface.\n",
    "    ax.plot_surface(X1, X2, mses_coefs, alpha=0.5, cmap=cm.coolwarm,\n",
    "                          linewidth=0, antialiased=False)\n",
    "    ax.scatter3D(w_steps[:, 1], w_steps[:, 2], mse_steps, s=5, color='black')\n",
    "    ax.plot(w_steps[:, 1], w_steps[:, 2], mse_steps, color='gray')\n",
    "\n",
    "\n",
    "    ax.view_init(elev=elev, azim=azim)\n",
    "    ax.set_xlabel('w1')\n",
    "    ax.set_ylabel('w2')\n",
    "    ax.set_zlabel('MSE')\n",
    "\n",
    "interact(plot_3D, elev=widgets.IntSlider(min=-90, max=90, step=10, value=20), \n",
    "          azim=widgets.IntSlider(min=-90, max=90, step=10, value=20),\n",
    "         X1=fixed(X1), X2=fixed(X2), mses_coefs=fixed(mses_coefs),\n",
    "         w_steps=fixed(w_steps), mse_steps=fixed(mse_steps));\n"
   ]
  },
  {
   "cell_type": "markdown",
   "id": "a01264ab-b2fe-4665-8549-a9d3f112f9df",
   "metadata": {},
   "source": [
    "### Other things to try\n",
    "\n",
    "-   Increase number of samples used in each iteration?\n",
    "-   Increase learning rate?\n",
    "-   Decrease learning rate?\n",
    "-   Use decaying learning rate $\\alpha^t = \\frac{\\alpha_0}{1 + kt}$?"
   ]
  },
  {
   "cell_type": "markdown",
   "id": "6af72470-b00b-4502-9721-7f888e22ca87",
   "metadata": {},
   "source": [
    "## Gradient descent with noise"
   ]
  },
  {
   "cell_type": "markdown",
   "id": "f6305ad2-bfcf-4ebf-adc3-3637a4840b4a",
   "metadata": {},
   "source": [
    "### Generate noisy data\n",
    "\n",
    "This time, we will use the `sigma` argument in our `generate_linear_regression_data` function to generate data that does not perfectly fit a linear model. (Using the same coefficients as the previous example.)"
   ]
  },
  {
   "cell_type": "code",
   "execution_count": null,
   "id": "76d193d8-a6ab-4c1f-9139-54e6e2612d89",
   "metadata": {},
   "outputs": [],
   "source": [
    "x, y = generate_linear_regression_data(n=n_samples, d=2, coef=w_true[1:], intercept=w_true[0], sigma=3)\n",
    "X = np.column_stack((np.ones((n_samples, 1)), x))"
   ]
  },
  {
   "cell_type": "markdown",
   "id": "526e45b6-b779-4018-90fa-20b91bf4ff46",
   "metadata": {},
   "source": [
    "### Perform gradient descent on noisy data"
   ]
  },
  {
   "cell_type": "code",
   "execution_count": null,
   "id": "8fd4b43d-9f42-4d26-9394-c0f6aa30e897",
   "metadata": {},
   "outputs": [],
   "source": [
    "itr = 50\n",
    "lr = 0.1\n",
    "w_init = [w_true[0], 2, 8]"
   ]
  },
  {
   "cell_type": "code",
   "execution_count": null,
   "id": "f4d52606-a539-41e1-a625-b9d456f855a0",
   "metadata": {},
   "outputs": [],
   "source": [
    "w_steps = np.zeros((itr, len(w_init)))\n",
    "mse_steps = np.zeros(itr)\n",
    "\n",
    "w_star = w_init\n",
    "for i in range(itr):\n",
    "  w_star, mse, gradient = gd_step(w_star, X, y, lr)\n",
    "  w_steps[i] = w_star\n",
    "  mse_steps[i] = mse"
   ]
  },
  {
   "cell_type": "markdown",
   "id": "25c2db8d-ce63-40b4-a998-61b17b68f652",
   "metadata": {},
   "source": [
    "### Visualize gradient descent on noisy data\n",
    "\n",
    "This time, the gradient descent may not necessarily arrive at the “true” coefficient values. That’s not because it does not find the coefficients with minimum MSE; it’s because the coefficients with minimum MSE on the noisy training data are not necessarily the “true” coefficients."
   ]
  },
  {
   "cell_type": "code",
   "execution_count": null,
   "id": "88ec9ff8-07bb-454a-809e-3c360df79f8a",
   "metadata": {},
   "outputs": [],
   "source": [
    "plt.figure(figsize=(18,5))\n",
    "plt.subplot(1,3,1);\n",
    "\n",
    "for n, w in enumerate(w_true):\n",
    "  plt.axhline(y=w, linestyle='--', color=colors[n]);\n",
    "  sns.lineplot(x=np.arange(itr), y=w_steps[:,n], color=colors[n], label='w' + str(n));\n",
    "plt.xlabel(\"Iteration\");\n",
    "plt.ylabel(\"Coefficient Value\");\n",
    "\n",
    "plt.subplot(1, 3, 2);\n",
    "sns.lineplot(x=np.arange(itr), y=mse_steps);\n",
    "#plt.yscale(\"log\")\n",
    "plt.xlabel(\"Iteration\");\n",
    "plt.ylabel(\"Training MSE\");\n",
    "\n",
    "plt.subplot(1, 3, 3);\n",
    "X1, X2 = np.meshgrid(coefs, coefs);\n",
    "p = plt.contour(X1, X2, mses_coefs, levels=5);\n",
    "plt.clabel(p, inline=1, fontsize=10);\n",
    "plt.xlabel('w1');\n",
    "plt.ylabel('w2');\n",
    "sns.lineplot(x=w_steps[:,1], y=w_steps[:,2], color='black', sort=False, alpha=0.5);\n",
    "sns.scatterplot(x=w_steps[:,1], y=w_steps[:,2], hue=np.arange(itr), edgecolor=None);\n",
    "plt.scatter(w_true[1], w_true[2], c='black', marker='*');\n",
    "\n",
    "plt.suptitle(\"Estimate after %d iterations with rate %s: %s\" % \n",
    "          (itr, \"{0:0.4f}\".format(lr), [\"{0:0.4f}\".format(w) for w in w_star]));"
   ]
  },
  {
   "cell_type": "markdown",
   "id": "aaa422a3-e06f-4abe-87af-00746256a5c7",
   "metadata": {},
   "source": [
    "### Perform stochastic gradient descent on noisy data"
   ]
  },
  {
   "cell_type": "code",
   "execution_count": null,
   "id": "9e3124cc-9def-4dbe-9003-a64a239228c2",
   "metadata": {},
   "outputs": [],
   "source": [
    "itr = 100\n",
    "lr = 0.1\n",
    "n_batch = 1\n",
    "w_init = [w_true[0], 2, 8]"
   ]
  },
  {
   "cell_type": "code",
   "execution_count": null,
   "id": "09c0c571-b3eb-4b06-aab2-d10416dbcfd3",
   "metadata": {},
   "outputs": [],
   "source": [
    "w_steps = np.zeros((itr, len(w_init)))\n",
    "mse_steps = np.zeros(itr)\n",
    "\n",
    "w_star = w_init\n",
    "for i in range(itr):\n",
    "  w_star, mse, grad = sgd_step(w_star, X, y, lr, n_batch) \n",
    "  w_steps[i] = w_star\n",
    "  mse_steps[i] = mse"
   ]
  },
  {
   "cell_type": "markdown",
   "id": "c6d7c9fc-c785-45e4-99dd-868858fe38da",
   "metadata": {},
   "source": [
    "### Visualize stochastic gradient descent\n",
    "\n",
    "Note the “noise ball”!"
   ]
  },
  {
   "cell_type": "code",
   "execution_count": null,
   "id": "0940e95c-c19a-4f15-83fc-68245c60d1e9",
   "metadata": {},
   "outputs": [],
   "source": [
    "plt.figure(figsize=(18,5))\n",
    "plt.subplot(1,3,1);\n",
    "\n",
    "for n, w in enumerate(w_true):\n",
    "  plt.axhline(y=w, linestyle='--', color=colors[n]);\n",
    "  sns.lineplot(x=np.arange(itr), y=w_steps[:,n], color=colors[n], label='w' + str(n));\n",
    "plt.xlabel(\"Iteration\");\n",
    "plt.ylabel(\"Coefficient Value\");\n",
    "\n",
    "plt.subplot(1, 3, 2);\n",
    "sns.lineplot(x=np.arange(itr), y=mse_steps);\n",
    "#plt.yscale(\"log\")\n",
    "plt.xlabel(\"Iteration\");\n",
    "plt.ylabel(\"Training MSE\");\n",
    "\n",
    "plt.subplot(1, 3, 3);\n",
    "X1, X2 = np.meshgrid(coefs, coefs);\n",
    "p = plt.contour(X1, X2, mses_coefs, levels=5);\n",
    "plt.clabel(p, inline=1, fontsize=10);\n",
    "plt.xlabel('w1');\n",
    "plt.ylabel('w2');\n",
    "sns.lineplot(x=w_steps[:,1], y=w_steps[:,2], color='black', sort=False, alpha=0.5);\n",
    "sns.scatterplot(x=w_steps[:,1], y=w_steps[:,2], hue=np.arange(itr), edgecolor=None);\n",
    "plt.scatter(w_true[1], w_true[2], c='black', marker='*');\n",
    "\n",
    "plt.suptitle(\"Estimate after %d iterations with rate %s and batch size %d: %s\" % \n",
    "            (itr, \"{0:0.4f}\".format(lr), n_batch, [\"{0:0.4f}\".format(w) for w in w_star]));\n"
   ]
  },
  {
   "cell_type": "markdown",
   "id": "b93e2ee4-3aaf-4fbc-978d-4fd21d7dc9e2",
   "metadata": {},
   "source": [
    "## Interactive\n",
    "\n",
    "You can use this interactive to explore different gradient descent options and see the effect."
   ]
  },
  {
   "cell_type": "code",
   "execution_count": null,
   "id": "e00dd95c-7673-466d-a6fb-030cb1bb96ef",
   "metadata": {},
   "outputs": [],
   "source": [
    "n_samples = 100\n",
    "w_true = [2, 6, 5]\n",
    "x, y = generate_linear_regression_data(n=n_samples, d=2, coef=w_true[1:], intercept=w_true[0], sigma=0)\n",
    "X = np.hstack((np.ones((n_samples, 1)), x))\n",
    "\n",
    "@interact(itr = widgets.IntSlider(min=10, max=200, step=10, value=100),\n",
    "          lr = widgets.FloatSlider(min=0.05, max=0.95, step=0.05, value=0.1),\n",
    "          n_batch = widgets.IntSlider(min=1, max=100, step=1, value=100),\n",
    "          sigma = widgets.FloatSlider(min=0, max=5, step=0.5, value=1),\n",
    "          X = fixed(X), y = fixed(y))\n",
    "def plot_gd(itr, lr, n_batch, sigma, X, y):\n",
    "\n",
    "  y = y + sigma * np.random.randn(n_samples)\n",
    "\n",
    "  w_init = [w_true[0], 3, 7]\n",
    "  w_steps = np.zeros((itr, len(w_init)))\n",
    "  mse_steps = np.zeros(itr)\n",
    "\n",
    "  w_star = w_init\n",
    "  for i in range(itr):\n",
    "    w_star, mse, grad = sgd_step(w_star, X, y, lr, n_batch)\n",
    "    w_steps[i] = w_star\n",
    "    mse_steps[i] = mse\n",
    "\n",
    "  plt.figure(figsize=(18,5))\n",
    "  plt.subplot(1,3,1);\n",
    "\n",
    "  for n, w in enumerate(w_true):\n",
    "    plt.axhline(y=w, linestyle='--', color=colors[n]);\n",
    "    sns.lineplot(x=np.arange(itr), y=w_steps[:,n], color=colors[n], label='w' + str(n));\n",
    "  plt.xlabel(\"Iteration\");\n",
    "  plt.ylabel(\"Coefficient Value\");\n",
    "\n",
    "  plt.subplot(1, 3, 2);\n",
    "  sns.lineplot(x=np.arange(itr), y=mse_steps);\n",
    "  #plt.yscale(\"log\")\n",
    "  plt.xlabel(\"Iteration\");\n",
    "  plt.ylabel(\"Training MSE\");\n",
    "\n",
    "  plt.subplot(1, 3, 3);\n",
    "  X1, X2 = np.meshgrid(coefs, coefs);\n",
    "  p = plt.contour(X1, X2, mses_coefs, levels=5);\n",
    "  plt.clabel(p, inline=1, fontsize=10);\n",
    "  plt.xlabel('w1');\n",
    "  plt.ylabel('w2');\n",
    "  sns.lineplot(x=w_steps[:,1], y=w_steps[:,2], color='black', sort=False, alpha=0.5);\n",
    "  sns.scatterplot(x=w_steps[:,1], y=w_steps[:,2], hue=np.arange(itr), edgecolor=None);\n",
    "  plt.scatter(w_true[1], w_true[2], c='black', marker='*');\n",
    "\n",
    "  plt.suptitle(\"Estimate after %d iterations with rate %s and batch size %d: %s\" % \n",
    "              (itr, \"{0:0.4f}\".format(lr), n_batch, [\"{0:0.4f}\".format(w) for w in w_star]));"
   ]
  },
  {
   "cell_type": "markdown",
   "id": "f01cfbbb-84b6-486f-aca0-d6accb5d8643",
   "metadata": {},
   "source": [
    "## A less friendly loss surface"
   ]
  },
  {
   "cell_type": "code",
   "execution_count": null,
   "id": "a48a800e-fd6a-4094-8281-979ecb367180",
   "metadata": {},
   "outputs": [],
   "source": [
    "w_true = [2, 5, 4]"
   ]
  },
  {
   "cell_type": "code",
   "execution_count": null,
   "id": "ef09b3ac-de0a-40d7-afea-9eafb30fcf9d",
   "metadata": {},
   "outputs": [],
   "source": [
    "n_samples = 1000\n",
    "d = 1\n",
    "sigma = 1\n",
    "\n",
    "x1 = np.random.randn(n_samples,d)\n",
    "x2 = x1 + (sigma/5)*np.random.randn(n_samples,1)\n",
    "x = np.column_stack([x1, x2])\n",
    "y = (np.dot(x, w_true[1:]) + w_true[0]).squeeze() + sigma * np.random.randn(n_samples)\n",
    "\n",
    "\n",
    "X = np.column_stack((np.ones((n_samples, 1)), x))"
   ]
  },
  {
   "cell_type": "code",
   "execution_count": null,
   "id": "cdb2ccca-4f4f-4a6a-ab52-4d9f5cb4a959",
   "metadata": {},
   "outputs": [],
   "source": [
    "sns.scatterplot(x=x1.squeeze(), y=x2.squeeze());\n",
    "plt.xlabel('x1');\n",
    "plt.ylabel('x2');"
   ]
  },
  {
   "cell_type": "markdown",
   "id": "2acf5d50-50c0-477d-ba10-8e2300759dd0",
   "metadata": {},
   "source": [
    "### MSE contour"
   ]
  },
  {
   "cell_type": "code",
   "execution_count": null,
   "id": "85098642-129d-445b-9018-199f35f72483",
   "metadata": {},
   "outputs": [],
   "source": [
    "coefs = np.arange(3, 7, 0.02)\n",
    "\n",
    "coef_grid = np.array(np.meshgrid(coefs, coefs)).reshape(1, 2, coefs.shape[0], coefs.shape[0])\n",
    "y_hat_c = (w_true[0] + np.sum(coef_grid * x.reshape(x.shape[0], 2, 1, 1), axis=1) )\n",
    "mses_coefs = np.mean((y.reshape(-1, 1, 1)- y_hat_c)**2,axis=0)"
   ]
  },
  {
   "cell_type": "code",
   "execution_count": null,
   "id": "23fcda3f-490c-4f9b-a25e-2dcd630f9d0f",
   "metadata": {},
   "outputs": [],
   "source": [
    "plt.figure(figsize=(5,5));\n",
    "X1, X2 = np.meshgrid(coefs, coefs)\n",
    "p = plt.contour(X1, X2, mses_coefs, levels=15);\n",
    "plt.clabel(p, inline=1, fontsize=10);\n",
    "plt.xlabel('w1');\n",
    "plt.ylabel('w2');\n",
    "plt.scatter(w_true[1], w_true[2], c='black', marker='*');\n"
   ]
  },
  {
   "cell_type": "markdown",
   "id": "b2fec2bd-4bd7-4e74-bc92-de236b3dd3f1",
   "metadata": {},
   "source": [
    "### Perform gradient descent"
   ]
  },
  {
   "cell_type": "code",
   "execution_count": null,
   "id": "c43d1731-8505-4702-a614-ed7cbbea043b",
   "metadata": {},
   "outputs": [],
   "source": [
    "itr = 100\n",
    "lr = 0.1\n",
    "w_init = [w_true[0], 3, 7]"
   ]
  },
  {
   "cell_type": "code",
   "execution_count": null,
   "id": "4224cfb9-9b06-47d8-93a3-4e12771326d0",
   "metadata": {},
   "outputs": [],
   "source": [
    "w_steps = np.zeros((itr, len(w_init)))\n",
    "mse_steps = np.zeros(itr)\n",
    "grad_steps = np.zeros((itr, len(w_init)))\n",
    "\n",
    "w_star = w_init\n",
    "for i in range(itr):\n",
    "  w_star, mse, gradient = gd_step(w_star, X, y, lr)\n",
    "  w_steps[i] = w_star\n",
    "  mse_steps[i] = mse\n",
    "  grad_steps[i] = gradient"
   ]
  },
  {
   "cell_type": "markdown",
   "id": "f7621e43-a1dc-46cc-b883-567de85aad9a",
   "metadata": {},
   "source": [
    "### Visualize gradient descent"
   ]
  },
  {
   "cell_type": "code",
   "execution_count": null,
   "id": "bc9cb2ed-84db-4417-b919-a72600735e35",
   "metadata": {},
   "outputs": [],
   "source": [
    "plt.figure(figsize=(18,5))\n",
    "plt.subplot(1,3,1);\n",
    "\n",
    "for n, w in enumerate(w_true):\n",
    "  plt.axhline(y=w, linestyle='--', color=colors[n]);\n",
    "  sns.lineplot(x=np.arange(itr), y=w_steps[:,n], color=colors[n], label='w' + str(n));\n",
    "plt.xlabel(\"Iteration\");\n",
    "plt.ylabel(\"Coefficient Value\");\n",
    "\n",
    "plt.subplot(1, 3, 2);\n",
    "sns.lineplot(x=np.arange(itr), y=mse_steps);\n",
    "#plt.yscale(\"log\")\n",
    "plt.xlabel(\"Iteration\");\n",
    "plt.ylabel(\"Training MSE\");\n",
    "\n",
    "\n",
    "plt.subplot(1, 3, 3);\n",
    "X1, X2 = np.meshgrid(coefs, coefs);\n",
    "p = plt.contour(X1, X2, mses_coefs, levels=5);\n",
    "plt.clabel(p, inline=1, fontsize=10);\n",
    "plt.xlabel('w1');\n",
    "plt.ylabel('w2');\n",
    "sns.lineplot(x=w_steps[:,1], y=w_steps[:,2], color='black', sort=False, alpha=0.5);\n",
    "sns.scatterplot(x=w_steps[:,1], y=w_steps[:,2], hue=np.arange(itr), edgecolor=None);\n",
    "plt.scatter(w_true[1], w_true[2], c='black', marker='*');\n",
    "\n",
    "plt.suptitle(\"Estimate after %d iterations with rate %s: %s\" % \n",
    "          (itr, \"{0:0.4f}\".format(lr), [\"{0:0.4f}\".format(w) for w in w_star]));"
   ]
  },
  {
   "cell_type": "markdown",
   "id": "912e6737-3bca-4d29-9a91-bde1ae677cb0",
   "metadata": {},
   "source": [
    "### Other things to try\n",
    "\n",
    "-   What happens if we increase the learning rate (try e.g. 0.9)?\n",
    "-   What happens if we change the initial “guess”?"
   ]
  },
  {
   "cell_type": "markdown",
   "id": "1e6ec1c4-7027-4af8-b2ef-cbe84efd97a4",
   "metadata": {},
   "source": [
    "### Momentum"
   ]
  },
  {
   "cell_type": "code",
   "execution_count": null,
   "id": "8438f246-0fa1-4f61-b15b-03ff8b47ba71",
   "metadata": {},
   "outputs": [],
   "source": [
    "def gd_step_momentum(w, X, y, lr, eta, v):\n",
    "  # use current parameters to get y_hat, error\n",
    "  y_hat = np.dot(X,w)\n",
    "  error = y_hat-y\n",
    "  # compute gradient and velocity\n",
    "  grad = np.matmul(X.T, error)\n",
    "  v_new = eta*v - (lr/X.shape[0])*grad\n",
    "  # update weights\n",
    "  w_new = w + v_new\n",
    "\n",
    "  # we don't have to actually compute MSE\n",
    "  # but I want to, for visualization \n",
    "  mse = np.mean(error**2, axis=0)\n",
    "\n",
    "  return (w_new, mse, grad, v_new)"
   ]
  },
  {
   "cell_type": "code",
   "execution_count": null,
   "id": "fcd941fe-b502-40ce-bc6d-aeb3b2525216",
   "metadata": {},
   "outputs": [],
   "source": [
    "itr = 100\n",
    "lr = 0.1\n",
    "eta = 0.9\n",
    "w_init = [w_true[0], 3, 7]"
   ]
  },
  {
   "cell_type": "code",
   "execution_count": null,
   "id": "44fc5213-5033-4a38-80f1-6927e42d51b6",
   "metadata": {},
   "outputs": [],
   "source": [
    "w_steps = np.zeros((itr, len(w_init)))\n",
    "mse_steps = np.zeros(itr)\n",
    "grad_steps = np.zeros((itr, len(w_init)))\n",
    "v_steps = np.zeros((itr, len(w_init)))\n",
    "\n",
    "w_star = w_init\n",
    "velocity = np.zeros(len(w_init))\n",
    "for i in range(itr):\n",
    "  w_star, mse, gradient, velocity = gd_step_momentum(w_star, X, y, lr, eta, velocity)\n",
    "  w_steps[i] = w_star\n",
    "  mse_steps[i] = mse\n",
    "  grad_steps[i] = gradient\n",
    "  v_steps[i] = velocity"
   ]
  },
  {
   "cell_type": "code",
   "execution_count": null,
   "id": "4b0a0ceb-1830-4f1a-af24-59abc3db2d23",
   "metadata": {},
   "outputs": [],
   "source": [
    "plt.figure(figsize=(18,5))\n",
    "plt.subplot(1,3,1);\n",
    "\n",
    "for n, w in enumerate(w_true):\n",
    "  plt.axhline(y=w, linestyle='--', color=colors[n]);\n",
    "  sns.lineplot(x=np.arange(itr), y=w_steps[:,n], color=colors[n], label='w' + str(n));\n",
    "plt.xlabel(\"Iteration\");\n",
    "plt.ylabel(\"Coefficient Value\");\n",
    "\n",
    "plt.subplot(1, 3, 2);\n",
    "for n, w in enumerate(w_true):\n",
    "  sns.lineplot(x=np.arange(itr), y=v_steps[:,n], color=colors[n]);\n",
    "plt.xlabel(\"Iteration\");\n",
    "plt.ylabel(\"Velocity\");\n",
    "\n",
    "\n",
    "plt.subplot(1, 3, 3);\n",
    "X1, X2 = np.meshgrid(coefs, coefs);\n",
    "p = plt.contour(X1, X2, mses_coefs, levels=5);\n",
    "plt.clabel(p, inline=1, fontsize=10);\n",
    "plt.xlabel('w1');\n",
    "plt.ylabel('w2');\n",
    "sns.lineplot(x=w_steps[:,1], y=w_steps[:,2], color='black', sort=False, alpha=0.5);\n",
    "sns.scatterplot(x=w_steps[:,1], y=w_steps[:,2], hue=np.arange(itr), edgecolor=None);\n",
    "plt.scatter(w_true[1], w_true[2], c='black', marker='*');\n",
    "\n",
    "plt.suptitle(\"Estimate after %d iterations with rate %s: %s\" % \n",
    "          (itr, \"{0:0.4f}\".format(lr), [\"{0:0.4f}\".format(w) for w in w_star]));\n"
   ]
  }
 ],
 "metadata": {
  "language_info": {
   "name": "python"
  }
 },
 "nbformat": 4,
 "nbformat_minor": 5
}
